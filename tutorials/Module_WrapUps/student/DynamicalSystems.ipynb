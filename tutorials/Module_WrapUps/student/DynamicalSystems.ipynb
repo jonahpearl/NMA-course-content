{
 "cells": [
  {
   "cell_type": "markdown",
   "id": "ffbd91a2",
   "metadata": {
    "colab_type": "text",
    "id": "view-in-github"
   },
   "source": [
    "<a href=\"https://colab.research.google.com/github/NeuromatchAcademy/course-content/blob/main/tutorials/Module_WrapUps/DynamicalSystems.ipynb\" target=\"_parent\"><img src=\"https://colab.research.google.com/assets/colab-badge.svg\" alt=\"Open In Colab\"/></a>"
   ]
  },
  {
   "cell_type": "markdown",
   "id": "e900e910",
   "metadata": {
    "pycharm": {
     "name": "#%% md\n"
    }
   },
   "source": [
    "# Dynamical Systems Wrap-Up\n"
   ]
  },
  {
   "cell_type": "markdown",
   "id": "6df5bd71",
   "metadata": {},
   "source": [
    "<p align='center'><img src='https://github.com/NeuromatchAcademy/widgets/blob/master/sponsors.png?raw=True'/></p>"
   ]
  },
  {
   "cell_type": "markdown",
   "id": "0aada446",
   "metadata": {},
   "source": [
    "## Podcast Panel Discussion\n",
    "\n",
    "Neuromatch Academy has collaborated with Paul Middlebrooks of the podcast Brain Inspired to host a series of panel discussions on the content modules.\n",
    "\n",
    "This second session covers the Dynamical Systems module, featuring panelists [Adrienne Fairhall](https://fairhalllab.com/), [Bing Brunton](https://www.bingbrunton.com/), and [Kanaka Rajan](http://labs.neuroscience.mssm.edu/project/rajan-lab/).\n",
    "\n",
    "Listen [here](https://braininspired.co/podcast/nma-2/) or in the embedded audio below!"
   ]
  },
  {
   "cell_type": "code",
   "execution_count": null,
   "id": "66705601",
   "metadata": {
    "cellView": "form"
   },
   "outputs": [],
   "source": [
    "# @markdown\n",
    "from IPython.display import IFrame\n",
    "\n",
    "IFrame(src = 'https://braininspired.castos.com/player/563932', width = '100%', height = '150')"
   ]
  }
 ],
 "metadata": {
  "kernelspec": {
   "display_name": "Python 3",
   "language": "python",
   "name": "python3"
  }
 },
 "nbformat": 4,
 "nbformat_minor": 5
}
