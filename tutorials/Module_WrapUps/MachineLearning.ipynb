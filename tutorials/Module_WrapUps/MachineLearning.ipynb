{
 "cells": [
  {
   "cell_type": "markdown",
   "id": "f5f9f7f7",
   "metadata": {
    "colab_type": "text",
    "id": "view-in-github"
   },
   "source": [
    "<a href=\"https://colab.research.google.com/github/NeuromatchAcademy/course-content/blob/main/tutorials/Module_WrapUps/MachineLearning.ipynb\" target=\"_parent\"><img src=\"https://colab.research.google.com/assets/colab-badge.svg\" alt=\"Open In Colab\"/></a>"
   ]
  },
  {
   "cell_type": "markdown",
   "id": "55d114f7",
   "metadata": {
    "pycharm": {
     "name": "#%% md\n"
    }
   },
   "source": [
    "# Machine Learning Wrap-Up\n"
   ]
  },
  {
   "cell_type": "markdown",
   "id": "bd835102",
   "metadata": {},
   "source": [
    "<p align='center'><img src='https://github.com/NeuromatchAcademy/widgets/blob/master/sponsors.png?raw=True'/></p>"
   ]
  },
  {
   "cell_type": "markdown",
   "id": "e218bbe8",
   "metadata": {},
   "source": [
    "## Podcast Panel Discussion\n",
    "\n",
    "Neuromatch Academy has collaborated with Paul Middlebrooks of the podcast Brain Inspired to host a series of panel discussions on the content modules.\n",
    "\n",
    "This first session covers the Machine Learning module, featuring panelists [Athena Akrami](https://www.athenaakrami.org/), [Demba Ba](https://brain.harvard.edu/?people=demba-ba), [Gunnar Blohm](http://www.compneurosci.com/people.html), and [Kunlin Wei](https://www.psy.pku.edu.cn/english/people/faculty/professor/kunlinwei/index.htm).\n",
    "\n",
    "Listen [here](https://braininspired.co/podcast/nma-1/) or in the embedded audio below!"
   ]
  },
  {
   "cell_type": "code",
   "execution_count": null,
   "id": "5b94c50d",
   "metadata": {
    "cellView": "form"
   },
   "outputs": [],
   "source": [
    "# @markdown\n",
    "from IPython.display import IFrame\n",
    "\n",
    "IFrame(src = 'https://braininspired.castos.com/player/560014', width = '100%', height = '150')"
   ]
  }
 ],
 "metadata": {
  "kernelspec": {
   "display_name": "Python 3",
   "language": "python",
   "name": "python3"
  }
 },
 "nbformat": 4,
 "nbformat_minor": 5
}
