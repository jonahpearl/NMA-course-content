{
 "cells": [
  {
   "cell_type": "markdown",
   "id": "b7607564",
   "metadata": {
    "colab_type": "text",
    "id": "view-in-github"
   },
   "source": [
    "<a href=\"https://colab.research.google.com/github/NeuromatchAcademy/course-content/blob/main/tutorials/W1D1_ModelTypes/W1D1_Tutorial4.ipynb\" target=\"_parent\"><img src=\"https://colab.research.google.com/assets/colab-badge.svg\" alt=\"Open In Colab\"/></a> &nbsp; <a href=\"https://kaggle.com/kernels/welcome?src=https://raw.githubusercontent.com/NeuromatchAcademy/course-content/main/tutorials/W1D1_ModelTypes/W1D1_Tutorial4.ipynb\" target=\"_parent\"><img src=\"https://kaggle.com/static/images/open-in-kaggle.svg\" alt=\"Open in Kaggle\"/></a>"
   ]
  },
  {
   "cell_type": "markdown",
   "id": "1e8449ea",
   "metadata": {},
   "source": [
    "# Tutorial 4: Model Discussions\n",
    "**Week 1, Day 1: Model Types**\n",
    "\n",
    "**By Neuromatch Academy**\n",
    "\n",
    "__Content creators:__ Matt Laporte, Byron Galbraith, Konrad Kording\n",
    "\n",
    "__Post-production team:__ Gagana B, Spiros Chavlis\n",
    "\n"
   ]
  },
  {
   "cell_type": "markdown",
   "id": "b42c8a34",
   "metadata": {},
   "source": [
    "<p align='center'><img src='https://github.com/NeuromatchAcademy/widgets/blob/master/sponsors.png?raw=True'/></p>"
   ]
  },
  {
   "cell_type": "markdown",
   "id": "da07423e",
   "metadata": {},
   "source": [
    "___\n",
    "# Tutorial Objectives\n",
    "\n",
    "*Estimated timing of tutorial: 45 minutes*\n",
    "\n",
    "In this tutorial, you will reflect on what/how/why models in a group discussion and discuss your preferences and thoughts on modeling."
   ]
  },
  {
   "cell_type": "code",
   "execution_count": null,
   "id": "9a923c58",
   "metadata": {
    "cellView": "form"
   },
   "outputs": [],
   "source": [
    "# @title Tutorial slides\n",
    "\n",
    "# @markdown These are the slides for the videos in all tutorials today\n",
    "from IPython.display import IFrame\n",
    "IFrame(src=f\"https://mfr.ca-1.osf.io/render?url=https://osf.io/6dxwe/?direct%26mode=render%26action=download%26mode=render\", width=854, height=480)"
   ]
  },
  {
   "cell_type": "markdown",
   "id": "a555d8d5",
   "metadata": {},
   "source": [
    "---\n",
    "# Section 1: Model discussions\n",
    "\n"
   ]
  },
  {
   "cell_type": "markdown",
   "id": "d5aff8e0",
   "metadata": {},
   "source": [
    "## Think! 1: Model discussions\n",
    "\n",
    "Please spend the next **45 minutes** or so discussing the following questions.\n",
    "\n",
    "- What is your favorite model ever\n",
    "    - Every student contributes one. Can not reuse the same\n",
    "- Which models when?\n",
    "    - For which questions do you prefer what models?\n",
    "    - How models?\n",
    "    - Why models?\n",
    "- Which model kinds do you like best?\n",
    "    - Why?\n",
    "    - Would you be missing something if the other models did not exist?"
   ]
  }
 ],
 "metadata": {
  "jupytext": {
   "main_language": "python"
  },
  "kernelspec": {
   "display_name": "Python 3",
   "name": "python3"
  }
 },
 "nbformat": 4,
 "nbformat_minor": 5
}
