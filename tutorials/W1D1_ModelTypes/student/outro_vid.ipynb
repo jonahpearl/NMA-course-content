{
 "cells": [
  {
   "cell_type": "markdown",
   "id": "a0f0f0a8",
   "metadata": {
    "pycharm": {
     "name": "#%% md\n"
    }
   },
   "source": [
    "# Intro Video"
   ]
  },
  {
   "cell_type": "markdown",
   "id": "95be4824",
   "metadata": {
    "pycharm": {
     "name": "#%% md\n"
    }
   },
   "source": [
    "# Video\n",
    "<iframe width=\"420\" height=\"315\"\n",
    "src=\"https://www.youtube.com/watch?v=KZQXfQL1SH4\">\n",
    "</iframe>"
   ]
  },
  {
   "cell_type": "markdown",
   "id": "ac35128f",
   "metadata": {
    "pycharm": {
     "name": "#%% md\n"
    }
   },
   "source": [
    "# Slides\n",
    "\n",
    "<iframe src=\"https://mfr.ca-1.osf.io/render?url=https://osf.io/9hkg2/?direct%26mode=render%26action=download%26mode=render\n",
    "\" frameborder=\"0\" width=\"960\" height=\"569\" allowfullscreen=\"true\" mozallowfullscreen=\"true\" webkitallowfullscreen=\"true\"></iframe>"
   ]
  }
 ],
 "metadata": {
  "kernelspec": {
   "display_name": "Python 2",
   "language": "python",
   "name": "python2"
  }
 },
 "nbformat": 4,
 "nbformat_minor": 5
}
