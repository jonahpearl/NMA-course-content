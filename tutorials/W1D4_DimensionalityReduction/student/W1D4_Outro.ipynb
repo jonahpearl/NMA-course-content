{
 "cells": [
  {
   "cell_type": "markdown",
   "id": "d0579930",
   "metadata": {
    "colab_type": "text",
    "id": "view-in-github"
   },
   "source": [
    "<a href=\"https://colab.research.google.com/github/NeuromatchAcademy/course-content/blob/main/tutorials/W1D4_DimensionalityReduction/student/W1D4_Outro.ipynb\" target=\"_parent\"><img src=\"https://colab.research.google.com/assets/colab-badge.svg\" alt=\"Open In Colab\"/></a> &nbsp; <a href=\"https://kaggle.com/kernels/welcome?src=https://raw.githubusercontent.com/NeuromatchAcademy/course-content/main/tutorials/W1D4_DimensionalityReduction/student/W1D4_Outro.ipynb\" target=\"_parent\"><img src=\"https://kaggle.com/static/images/open-in-kaggle.svg\" alt=\"Open in Kaggle\"/></a>"
   ]
  },
  {
   "cell_type": "markdown",
   "id": "628e540d",
   "metadata": {
    "pycharm": {
     "name": "#%% md\n"
    }
   },
   "source": [
    "# Outro\n"
   ]
  },
  {
   "cell_type": "markdown",
   "id": "4b5b443c",
   "metadata": {},
   "source": [
    "<p align='center'><img src='https://github.com/NeuromatchAcademy/widgets/blob/master/sponsors.png?raw=True'/></p>"
   ]
  },
  {
   "cell_type": "markdown",
   "id": "6f5fb06a",
   "metadata": {
    "pycharm": {
     "name": "#%% md\n"
    }
   },
   "source": [
    "## Video"
   ]
  },
  {
   "cell_type": "code",
   "execution_count": null,
   "id": "1f2c9c2d",
   "metadata": {
    "cellView": "form",
    "pycharm": {
     "name": "#%%\n"
    }
   },
   "outputs": [],
   "source": [
    "# @markdown\n",
    "from ipywidgets import widgets\n",
    "\n",
    "out2 = widgets.Output()\n",
    "with out2:\n",
    "    from IPython.display import IFrame\n",
    "    class BiliVideo(IFrame):\n",
    "        def __init__(self, id, page=1, width=400, height=300, **kwargs):\n",
    "            self.id=id\n",
    "            src = \"https://player.bilibili.com/player.html?bvid={0}&page={1}\".format(id, page)\n",
    "            super(BiliVideo, self).__init__(src, width, height, **kwargs)\n",
    "\n",
    "    video = BiliVideo(id=f\"BV1pi4y1V7tK\", width=854, height=480, fs=1)\n",
    "    print(\"Video available at https://www.bilibili.com/video/{0}\".format(video.id))\n",
    "    display(video)\n",
    "\n",
    "out1 = widgets.Output()\n",
    "with out1:\n",
    "    from IPython.display import YouTubeVideo\n",
    "    video = YouTubeVideo(id=f\"Vaut2BJlv10\", width=854, height=480, fs=1, rel=0)\n",
    "    print(\"Video available at https://youtube.com/watch?v=\" + video.id)\n",
    "    display(video)\n",
    "\n",
    "out = widgets.Tab([out1, out2])\n",
    "out.set_title(0, 'Youtube')\n",
    "out.set_title(1, 'Bilibili')\n",
    "\n",
    "display(out)"
   ]
  },
  {
   "cell_type": "markdown",
   "id": "700fbd86",
   "metadata": {},
   "source": [
    "## Daily survey\n",
    "\n",
    "Don't forget to complete your reflections and content check in the daily survey! Please be patient after logging in as there is\n",
    "a small delay before you will be redirected to the survey.\n",
    "\n",
    "<a href=\"https://portal.neuromatchacademy.org/api/redirect/to/579d3700-38aa-477b-b5ae-1aea705e2fa6\"><img src=\"https://github.com/NeuromatchAcademy/course-content/blob/main/tutorials/static/button.png?raw=1\" alt=\"button link to survey\" style=\"width:410px\"></a>"
   ]
  },
  {
   "cell_type": "markdown",
   "id": "0c23c3e7",
   "metadata": {
    "pycharm": {
     "name": "#%% md\n"
    }
   },
   "source": [
    "## Slides"
   ]
  },
  {
   "cell_type": "code",
   "execution_count": null,
   "id": "23909cb1",
   "metadata": {
    "cellView": "form",
    "pycharm": {
     "name": "#%%\n"
    }
   },
   "outputs": [],
   "source": [
    "# @markdown\n",
    "from IPython.display import IFrame\n",
    "IFrame(src=\"https://mfr.ca-1.osf.io/render?url=https://osf.io/763p2/?direct%26mode=render%26action=download%26mode=render\", width=854, height=480)"
   ]
  }
 ],
 "metadata": {
  "kernelspec": {
   "display_name": "Python 3",
   "language": "python",
   "name": "python3"
  }
 },
 "nbformat": 4,
 "nbformat_minor": 5
}
