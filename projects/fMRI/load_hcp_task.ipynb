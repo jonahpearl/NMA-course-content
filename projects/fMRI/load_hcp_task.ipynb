{
 "cells": [
  {
   "cell_type": "markdown",
   "id": "756da002",
   "metadata": {
    "colab_type": "text",
    "id": "view-in-github"
   },
   "source": [
    "<a href=\"https://colab.research.google.com/github/NeuromatchAcademy/course-content/blob/main/projects/fMRI/load_hcp_task.ipynb\" target=\"_parent\"><img src=\"https://colab.research.google.com/assets/colab-badge.svg\" alt=\"Open In Colab\"/></a> &nbsp; <a href=\"https://kaggle.com/kernels/welcome?src=https://raw.githubusercontent.com/NeuromatchAcademy/course-content/main/projects/fMRI/load_hcp_task.ipynb\" target=\"_parent\"><img src=\"https://kaggle.com/static/images/open-in-kaggle.svg\" alt=\"Open in Kaggle\"/></a>"
   ]
  },
  {
   "cell_type": "markdown",
   "id": "c1ecfc50",
   "metadata": {},
   "source": [
    "# Load HCP parcellated task data\n",
    "\n",
    "The HCP dataset comprises task-based fMRI from a large sample of human subjects. The NMA-curated dataset includes time series data that has been preprocessed and spatially-downsampled by aggregating within 360 regions of interest.\n",
    "\n",
    "In order to use this dataset, please electronically sign the HCP data use terms at [ConnectomeDB](https://db.humanconnectome.org). Instructions for this are on pp. 24-25 of the [HCP Reference Manual](https://www.humanconnectome.org/storage/app/media/documentation/s1200/HCP_S1200_Release_Reference_Manual.pdf).\n",
    "\n",
    "In this notebook, NMA provides code for downloading the data and doing some basic visualisation and processing."
   ]
  },
  {
   "cell_type": "code",
   "execution_count": null,
   "id": "8339cd12",
   "metadata": {
    "cellView": "form"
   },
   "outputs": [],
   "source": [
    "# @title Install dependencies\n",
    "!pip install pandas --quiet\n",
    "!pip install seaborn --quiet\n",
    "!pip install nilearn --quiet"
   ]
  },
  {
   "cell_type": "code",
   "execution_count": null,
   "id": "249e8ae4",
   "metadata": {},
   "outputs": [],
   "source": [
    "import os\n",
    "import numpy as np\n",
    "import pandas as pd\n",
    "import seaborn as sns\n",
    "import matplotlib.pyplot as plt\n",
    "\n",
    "from nilearn import plotting, datasets"
   ]
  },
  {
   "cell_type": "code",
   "execution_count": null,
   "id": "d3ee70a9",
   "metadata": {
    "cellView": "form"
   },
   "outputs": [],
   "source": [
    "# @title Figure settings\n",
    "%matplotlib inline\n",
    "%config InlineBackend.figure_format = 'retina'\n",
    "plt.style.use(\"https://raw.githubusercontent.com/NeuromatchAcademy/course-content/main/nma.mplstyle\")"
   ]
  },
  {
   "cell_type": "code",
   "execution_count": null,
   "id": "083babab",
   "metadata": {},
   "outputs": [],
   "source": [
    "# The download cells will store the data in nested directories starting here:\n",
    "HCP_DIR = \"./hcp\"\n",
    "if not os.path.isdir(HCP_DIR):\n",
    "    os.mkdir(HCP_DIR)\n",
    "\n",
    "# The data shared for NMA projects is a subset of the full HCP dataset\n",
    "N_SUBJECTS = 339\n",
    "\n",
    "# The data have already been aggregated into ROIs from the Glasser parcellation\n",
    "N_PARCELS = 360\n",
    "\n",
    "# The acquisition parameters for all tasks were identical\n",
    "TR = 0.72  # Time resolution, in seconds\n",
    "\n",
    "# The parcels are matched across hemispheres with the same order\n",
    "HEMIS = [\"Right\", \"Left\"]\n",
    "\n",
    "# Each experiment was repeated twice in each subject\n",
    "N_RUNS = 2\n",
    "\n",
    "# There are 7 tasks. Each has a number of 'conditions'\n",
    "\n",
    "EXPERIMENTS = {\n",
    "    'MOTOR'      : {'runs': [5,6],   'cond':['lf','rf','lh','rh','t','cue']},\n",
    "    'WM'         : {'runs': [7,8],   'cond':['0bk_body','0bk_faces','0bk_places','0bk_tools','2bk_body','2bk_faces','2bk_places','2bk_tools']},\n",
    "    'EMOTION'    : {'runs': [9,10],  'cond':['fear','neut']},\n",
    "    'GAMBLING'   : {'runs': [11,12], 'cond':['loss','win']},\n",
    "    'LANGUAGE'   : {'runs': [13,14], 'cond':['math','story']},\n",
    "    'RELATIONAL' : {'runs': [15,16], 'cond':['match','relation']},\n",
    "    'SOCIAL'     : {'runs': [17,18], 'cond':['mental','rnd']}\n",
    "}\n",
    "\n",
    "# You may want to limit the subjects used during code development.\n",
    "# This will use all subjects:\n",
    "subjects = range(N_SUBJECTS)"
   ]
  },
  {
   "cell_type": "markdown",
   "id": "241353ca",
   "metadata": {},
   "source": [
    "> For a detailed description of the tasks have a look pages 45-54 of the [HCP reference manual](https://www.humanconnectome.org/storage/app/media/documentation/s1200/HCP_S1200_Release_Reference_Manual.pdf)."
   ]
  },
  {
   "cell_type": "markdown",
   "id": "c6886bd8",
   "metadata": {},
   "source": [
    "# Downloading data\n",
    "\n",
    "The task data are shared in different files, but they will unpack into the same directory structure.\n"
   ]
  },
  {
   "cell_type": "code",
   "execution_count": null,
   "id": "dc896507",
   "metadata": {
    "cellView": "form"
   },
   "outputs": [],
   "source": [
    "# @title Download the data\n",
    "\n",
    "import os, requests, tarfile\n",
    "\n",
    "fname = \"hcp_task.tgz\"\n",
    "url = \"https://osf.io/s4h8j/download/\"\n",
    "\n",
    "if not os.path.isfile(fname):\n",
    "    try:\n",
    "        r = requests.get(url)\n",
    "    except requests.ConnectionError:\n",
    "        print(\"!!! Failed to download data !!!\")\n",
    "    else:\n",
    "        if r.status_code != requests.codes.ok:\n",
    "            print(\"!!! Failed to download data !!!\")\n",
    "        else:\n",
    "            print(f\"Downloading {fname}...\")\n",
    "            with open(fname, \"wb\") as fid:\n",
    "                fid.write(r.content)\n",
    "            print(f\"Download {fname} completed!\")"
   ]
  },
  {
   "cell_type": "code",
   "execution_count": null,
   "id": "64070f81",
   "metadata": {
    "cellView": "form"
   },
   "outputs": [],
   "source": [
    "# @title Extract the data in `HCP_DIR`\n",
    "fname_ex = \"hcp_task\"\n",
    "path_name = os.path.join(HCP_DIR, fname_ex)\n",
    "if not os.path.exists(path_name):\n",
    "    print(f\"Extracting {fname_ex}.tgz...\")\n",
    "    with tarfile.open(f\"{fname_ex}.tgz\") as fzip:\n",
    "        fzip.extractall(HCP_DIR)\n",
    "else:\n",
    "    print(f\"File {fname_ex}.tgz has already been extracted.\")"
   ]
  },
  {
   "cell_type": "markdown",
   "id": "b1a7dd4e",
   "metadata": {},
   "source": [
    "## Loading region information\n",
    "\n",
    "Downloading this dataset will create the `regions.npy` file, which contains the region name and network assignment for each parcel.\n",
    "\n",
    "Detailed information about the name used for each region is provided [in the Supplement](https://static-content.springer.com/esm/art%3A10.1038%2Fnature18933/MediaObjects/41586_2016_BFnature18933_MOESM330_ESM.pdf) to [Glasser et al. 2016](https://www.nature.com/articles/nature18933).\n",
    "\n",
    "Information about the network parcellation is provided in [Ji et al, 2019](https://www.ncbi.nlm.nih.gov/pmc/articles/PMC6289683/).\n",
    "\n"
   ]
  },
  {
   "cell_type": "code",
   "execution_count": null,
   "id": "be267391",
   "metadata": {},
   "outputs": [],
   "source": [
    "regions = np.load(os.path.join(HCP_DIR, \"hcp_task\", \"regions.npy\")).T\n",
    "region_info = dict(name=regions[0].tolist(),\n",
    "                   network=regions[1],\n",
    "                   hemi=['Right']*int(N_PARCELS/2) + ['Left']*int(N_PARCELS/2))"
   ]
  },
  {
   "cell_type": "markdown",
   "id": "b0316482",
   "metadata": {},
   "source": [
    "# Help functions\n",
    "\n",
    "We provide two helper functions: one for loading the time series from a single suject and a single run, and one for loading an EV file for each task.\n",
    "\n",
    "An EV file (EV:Explanatory Variable) describes the task experiment in terms of stimulus onset, duration, and amplitude. These can be used to model the task time series data."
   ]
  },
  {
   "cell_type": "code",
   "execution_count": null,
   "id": "79d25c40",
   "metadata": {},
   "outputs": [],
   "source": [
    "def load_single_timeseries(subject, experiment, run, dir, remove_mean=True):\n",
    "    \"\"\"Load timeseries data for a single subject and single run.\n",
    "\n",
    "    Args:\n",
    "      subject (int): 0-based subject ID to load\n",
    "      experiment (str): Name of experiment\n",
    "      run (int): 0-based run index, across all tasks\n",
    "      remove_mean (bool): If True, subtract the parcel-wise mean (typically the mean BOLD signal is not of interest)\n",
    "\n",
    "    Returns\n",
    "      ts (n_parcel x n_timepoint array): Array of BOLD data values\n",
    "\n",
    "    \"\"\"\n",
    "    bold_run = EXPERIMENTS[experiment]['runs'][run]\n",
    "    bold_path = os.path.join(dir, \"subjects\", str(subject), \"timeseries\")\n",
    "    bold_file = f\"bold{bold_run}_Atlas_MSMAll_Glasser360Cortical.npy\"\n",
    "    ts = np.load(os.path.join(bold_path, bold_file))\n",
    "    if remove_mean:\n",
    "        ts -= ts.mean(axis=1, keepdims=True)\n",
    "    return ts\n",
    "\n",
    "\n",
    "def load_evs(subject, experiment, run, dir):\n",
    "    \"\"\"Load EVs (explanatory variables) data for one task experiment.\n",
    "\n",
    "    Args:\n",
    "      subject (int): 0-based subject ID to load\n",
    "      experiment (str) : Name of experiment\n",
    "      run (int) : 0-based run index, across all tasks\n",
    "\n",
    "    Returns\n",
    "      evs (list of lists): A list of frames associated with each condition\n",
    "\n",
    "    \"\"\"\n",
    "    frames_list = []\n",
    "    task_key = 'tfMRI_' + experiment + '_' + ['RL', 'LR'][run]\n",
    "    for cond in EXPERIMENTS[experiment]['cond']:\n",
    "        ev_file = os.path.join(dir, \"subjects\", str(subject), \"EVs\",\n",
    "                               str(task_key), f\"{cond}.txt\")\n",
    "\n",
    "        ev_array = np.loadtxt(ev_file, ndmin=2, unpack=True)\n",
    "        ev = dict(zip([\"onset\", \"duration\", \"amplitude\"], ev_array))\n",
    "        # Determine when trial starts, rounded down\n",
    "        start = np.floor(ev[\"onset\"] / TR).astype(int)\n",
    "        # Use trial duration to determine how many frames to include for trial\n",
    "        duration = np.ceil(ev[\"duration\"] / TR).astype(int)\n",
    "        # Take the range of frames that correspond to this specific trial\n",
    "        frames = [s + np.arange(0, d) for s, d in zip(start, duration)]\n",
    "        frames_list.append(frames)\n",
    "\n",
    "    return frames_list"
   ]
  },
  {
   "cell_type": "markdown",
   "id": "f82cd093",
   "metadata": {},
   "source": [
    "# Example run\n",
    "\n",
    "Let's load the timeseries data for the MOTOR experiment from a single subject and a single run"
   ]
  },
  {
   "cell_type": "code",
   "execution_count": null,
   "id": "8c2f044a",
   "metadata": {},
   "outputs": [],
   "source": [
    "my_exp = 'MOTOR'\n",
    "my_subj = 0\n",
    "my_run = 1\n",
    "\n",
    "data = load_single_timeseries(subject=my_subj,\n",
    "                              experiment=my_exp,\n",
    "                              run=my_run,\n",
    "                              dir=os.path.join(HCP_DIR, \"hcp_task\"),\n",
    "                              remove_mean=True)\n",
    "print(data.shape)"
   ]
  },
  {
   "cell_type": "markdown",
   "id": "b4ea7f92",
   "metadata": {},
   "source": [
    "As you can see the time series data contains 284 time points in 360 regions of interest (ROIs).\n",
    "\n"
   ]
  },
  {
   "cell_type": "markdown",
   "id": "52fdfa28",
   "metadata": {},
   "source": [
    "Now in order to understand how to model these data, we need to relate the time series to the experimental manipulation. This is described by the EV files. Let us load the EVs for this experiment."
   ]
  },
  {
   "cell_type": "code",
   "execution_count": null,
   "id": "27fae048",
   "metadata": {},
   "outputs": [],
   "source": [
    "evs = load_evs(subject=my_subj, experiment=my_exp,run=my_run, dir=os.path.join(HCP_DIR, \"hcp_task\"))"
   ]
  },
  {
   "cell_type": "markdown",
   "id": "6ad87fad",
   "metadata": {},
   "source": [
    "For the motor task, this evs variable contains a list of 5 arrays corresponding to the 5 conditions.\n",
    "\n",
    "Now let's use these evs to compare the average activity during the left foot ('lf') and right foot ('rf') conditions:"
   ]
  },
  {
   "cell_type": "code",
   "execution_count": null,
   "id": "9694f653",
   "metadata": {},
   "outputs": [],
   "source": [
    "# we need a little function that averages all frames from any given condition\n",
    "\n",
    "def average_frames(data, evs, experiment, cond):\n",
    "    idx = EXPERIMENTS[experiment]['cond'].index(cond)\n",
    "    return np.mean(np.concatenate([np.mean(data[:, evs[idx][i]], axis=1, keepdims=True) for i in range(len(evs[idx]))], axis=-1), axis=1)\n",
    "\n",
    "\n",
    "lf_activity = average_frames(data, evs, my_exp, 'lf')\n",
    "rf_activity = average_frames(data, evs, my_exp, 'rf')\n",
    "contrast = lf_activity-rf_activity  # difference between left and right hand movement"
   ]
  },
  {
   "cell_type": "code",
   "execution_count": null,
   "id": "fc6a8fa8",
   "metadata": {},
   "outputs": [],
   "source": [
    "# Plot activity level in each ROI for both conditions\n",
    "plt.figure()\n",
    "plt.plot(lf_activity, label='left foot')\n",
    "plt.plot(rf_activity, label='right foot')\n",
    "plt.xlabel('ROI')\n",
    "plt.ylabel('activity')\n",
    "plt.legend()\n",
    "plt.show()"
   ]
  },
  {
   "cell_type": "markdown",
   "id": "9f298382",
   "metadata": {},
   "source": [
    "Now let's plot these activity vectors. We will also make use of the ROI names to find out which brain areas show highest activity in these conditions. But since there are so many areas, we will group them by network.\n",
    "\n",
    "A powerful tool for organising and plotting this data is the combination of pandas and seaborn. Below is an example where we use pandas to create a table for the activity data and we use seaborn oto visualise it.\n",
    "\n",
    "\n",
    "\n"
   ]
  },
  {
   "cell_type": "code",
   "execution_count": null,
   "id": "5bf22e57",
   "metadata": {},
   "outputs": [],
   "source": [
    "df = pd.DataFrame({'lf_activity': lf_activity,\n",
    "                   'rf_activity': rf_activity,\n",
    "                   'network': region_info['network'],\n",
    "                   'hemi': region_info['hemi']\n",
    "                   })\n",
    "\n",
    "fig, (ax1, ax2) = plt.subplots(1, 2)\n",
    "sns.barplot(y='network', x='lf_activity', data=df, hue='hemi',ax=ax1)\n",
    "sns.barplot(y='network', x='rf_activity', data=df, hue='hemi',ax=ax2)\n",
    "fig.show()"
   ]
  },
  {
   "cell_type": "markdown",
   "id": "cc4b431f",
   "metadata": {},
   "source": [
    "You should be able to notice that for the somatosensory network, brain activity in the right hemi is higher for the left foot movement and vice versa for the left hemi and right foot. But this may be suubtle at the single subject/session level (these are a quick 3-4min scans).\n",
    "\n",
    "\n",
    "Let us boost thee stats by averaging across all subjects and runs."
   ]
  },
  {
   "cell_type": "code",
   "execution_count": null,
   "id": "fb831784",
   "metadata": {},
   "outputs": [],
   "source": [
    "group_contrast = 0\n",
    "for s in subjects:\n",
    "    for r in [0,1]:\n",
    "        data = load_single_timeseries(subject=s, experiment=my_exp, run=r,\n",
    "                                      dir=os.path.join(HCP_DIR, \"hcp_task\"),\n",
    "                                      remove_mean=True)\n",
    "        evs = load_evs(subject=s, experiment=my_exp, run=r,\n",
    "                       dir=os.path.join(HCP_DIR, \"hcp_task\"))\n",
    "\n",
    "        lf_activity = average_frames(data, evs, my_exp, 'lf')\n",
    "        rf_activity = average_frames(data, evs, my_exp, 'rf')\n",
    "\n",
    "        contrast = lf_activity - rf_activity\n",
    "        group_contrast += contrast\n",
    "\n",
    "group_contrast /= (len(subjects)*2)  # remember: 2 sessions per subject"
   ]
  },
  {
   "cell_type": "code",
   "execution_count": null,
   "id": "f9b0373b",
   "metadata": {},
   "outputs": [],
   "source": [
    "df = pd.DataFrame({'contrast': group_contrast,\n",
    "                   'network': region_info['network'],\n",
    "                   'hemi': region_info['hemi']\n",
    "                   })\n",
    "# we will plot the left foot minus right foot contrast so we only need one plot\n",
    "plt.figure()\n",
    "sns.barplot(y='network', x='contrast', data=df, hue='hemi')\n",
    "plt.show()"
   ]
  },
  {
   "cell_type": "markdown",
   "id": "d499f8c3",
   "metadata": {},
   "source": [
    "# Visualising the results on a brain\n",
    "\n",
    "Finally, we will visualise these resuts on the cortical surface of an average brain."
   ]
  },
  {
   "cell_type": "code",
   "execution_count": null,
   "id": "af01137c",
   "metadata": {
    "cellView": "form"
   },
   "outputs": [],
   "source": [
    "# @title Download `atlas.npz`\n",
    "\n",
    "import os, requests, tarfile\n",
    "\n",
    "fname = \"atlas.npz\"\n",
    "url = \"https://osf.io/j5kuc/download\"\n",
    "\n",
    "if not os.path.isfile(fname):\n",
    "    try:\n",
    "        r = requests.get(url)\n",
    "    except requests.ConnectionError:\n",
    "        print(\"!!! Failed to download data !!!\")\n",
    "    else:\n",
    "        if r.status_code != requests.codes.ok:\n",
    "            print(\"!!! Failed to download data !!!\")\n",
    "        else:\n",
    "            print(f\"Downloading {fname}...\")\n",
    "            with open(fname, \"wb\") as fid:\n",
    "                fid.write(r.content)\n",
    "            print(f\"Download {fname} completed!\")"
   ]
  },
  {
   "cell_type": "code",
   "execution_count": null,
   "id": "54a1bf39",
   "metadata": {},
   "outputs": [],
   "source": [
    "# This uses the nilearn package\n",
    "\n",
    "with np.load(fname) as dobj:\n",
    "    atlas = dict(**dobj)\n",
    "\n",
    "# Try both hemispheres (L->R and left->right)\n",
    "fsaverage = datasets.fetch_surf_fsaverage()\n",
    "surf_contrast = group_contrast[atlas[\"labels_L\"]]\n",
    "plotting.view_surf(fsaverage['infl_left'],\n",
    "                   surf_contrast,\n",
    "                   vmax=20)"
   ]
  }
 ],
 "metadata": {
  "jupytext": {
   "main_language": "python"
  },
  "kernelspec": {
   "display_name": "Python 3",
   "name": "python3"
  }
 },
 "nbformat": 4,
 "nbformat_minor": 5
}
