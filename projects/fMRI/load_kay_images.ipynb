{
 "cells": [
  {
   "cell_type": "markdown",
   "id": "628ac475",
   "metadata": {
    "colab_type": "text",
    "id": "view-in-github"
   },
   "source": [
    "<a href=\"https://colab.research.google.com/github/NeuromatchAcademy/course-content/blob/main/projects/fMRI/load_kay_images.ipynb\" target=\"_parent\"><img src=\"https://colab.research.google.com/assets/colab-badge.svg\" alt=\"Open In Colab\"/></a> &nbsp; <a href=\"https://kaggle.com/kernels/welcome?src=https://raw.githubusercontent.com/NeuromatchAcademy/course-content/main/projects/fMRI/load_kay_images.ipynb\" target=\"_parent\"><img src=\"https://kaggle.com/static/images/open-in-kaggle.svg\" alt=\"Open in Kaggle\"/></a>"
   ]
  },
  {
   "cell_type": "code",
   "execution_count": null,
   "id": "67ef4147",
   "metadata": {},
   "outputs": [],
   "source": [
    "import os\n",
    "import numpy as np\n",
    "import matplotlib.pyplot as plt"
   ]
  },
  {
   "cell_type": "code",
   "execution_count": null,
   "id": "8c1f7ae5",
   "metadata": {
    "cellView": "form"
   },
   "outputs": [],
   "source": [
    "# @title Download the data\n",
    "\n",
    "import os, requests, tarfile\n",
    "\n",
    "fnames = [\"kay_labels.npy\", \"kay_labels_val.npy\", \"kay_images.npz\"]\n",
    "urls = [\"https://osf.io/r638s/download\",\n",
    "        \"https://osf.io/yqb3e/download\",\n",
    "        \"https://osf.io/ymnjv/download\"]\n",
    "\n",
    "for fname, url in zip(fnames, urls):\n",
    "    if not os.path.isfile(fname):\n",
    "        try:\n",
    "            r = requests.get(url)\n",
    "        except requests.ConnectionError:\n",
    "            print(\"!!! Failed to download data !!!\")\n",
    "        else:\n",
    "            if r.status_code != requests.codes.ok:\n",
    "                print(\"!!! Failed to download data !!!\")\n",
    "            else:\n",
    "                print(f\"Downloading {fname}...\")\n",
    "                with open(fname, \"wb\") as fid:\n",
    "                    fid.write(r.content)\n",
    "                print(f\"Download {fname} completed!\")"
   ]
  },
  {
   "cell_type": "code",
   "execution_count": null,
   "id": "9c7dd3c2",
   "metadata": {},
   "outputs": [],
   "source": [
    "with np.load(fname) as dobj:\n",
    "    dat = dict(**dobj)\n",
    "labels = np.load('kay_labels.npy')\n",
    "val_labels = np.load('kay_labels_val.npy')"
   ]
  },
  {
   "cell_type": "markdown",
   "id": "e81a6b15",
   "metadata": {},
   "source": [
    "\n",
    "`labels` is a 4 by stim array of class names:\n",
    "- row 3 has the labels predicted by a deep neural network (DNN) trained on Imagenet\n",
    "- rows 0-2 correspond to different levels of the wordnet hierarchy for the DNN predictions"
   ]
  },
  {
   "cell_type": "code",
   "execution_count": null,
   "id": "4a0c5f46",
   "metadata": {},
   "outputs": [],
   "source": [
    "print(labels[:, :4])"
   ]
  },
  {
   "cell_type": "code",
   "execution_count": null,
   "id": "ab131e03",
   "metadata": {},
   "outputs": [],
   "source": [
    "print(dat.keys())"
   ]
  },
  {
   "cell_type": "markdown",
   "id": "9b05965c",
   "metadata": {},
   "source": [
    "`dat` has the following fields:\n",
    "- `stimuli`: stim x i x j array of grayscale stimulus images\n",
    "- `stimuli_test`: stim x i x j array of grayscale stimulus images in the test set\n",
    "- `responses`: stim x voxel array of z-scored BOLD response amplitude\n",
    "- `responses_test`:  stim x voxel array of z-scored BOLD response amplitude in the test set\n",
    "- `roi`: array of voxel labels\n",
    "- `roi_names`: array of names corresponding to voxel labels"
   ]
  },
  {
   "cell_type": "code",
   "execution_count": null,
   "id": "1c356434",
   "metadata": {},
   "outputs": [],
   "source": [
    "print(dat[\"stimuli\"].shape)"
   ]
  },
  {
   "cell_type": "code",
   "execution_count": null,
   "id": "e8a6ba14",
   "metadata": {},
   "outputs": [],
   "source": [
    "print(dat[\"responses\"].shape)"
   ]
  },
  {
   "cell_type": "markdown",
   "id": "eec6808e",
   "metadata": {},
   "source": [
    "This is the number of voxels in each ROI. Note that `\"Other\"` voxels have been removed from this version of the dataset:"
   ]
  },
  {
   "cell_type": "code",
   "execution_count": null,
   "id": "a08c1709",
   "metadata": {},
   "outputs": [],
   "source": [
    "dict(zip(dat[\"roi_names\"], np.bincount(dat[\"roi\"])))"
   ]
  },
  {
   "cell_type": "markdown",
   "id": "1cbeaf4c",
   "metadata": {},
   "source": [
    "Each stimulus is a 128 x 128 grayscale array:"
   ]
  },
  {
   "cell_type": "code",
   "execution_count": null,
   "id": "0618e929",
   "metadata": {},
   "outputs": [],
   "source": [
    "fig, axs = plt.subplots(2, 4, figsize=(12, 6), sharex=True, sharey=True)\n",
    "for ax, im, lbl in zip(axs.flat, dat[\"stimuli\"], labels[-1, :]):\n",
    "    ax.imshow(im, cmap=\"gray\")\n",
    "    ax.set_title(lbl)\n",
    "fig.tight_layout()\n",
    "fig.show()"
   ]
  },
  {
   "cell_type": "markdown",
   "id": "80b80128",
   "metadata": {},
   "source": [
    "Each stimulus is associated with a pattern of BOLD response across voxels in visual cortex:"
   ]
  },
  {
   "cell_type": "code",
   "execution_count": null,
   "id": "569717df",
   "metadata": {},
   "outputs": [],
   "source": [
    "fig, ax = plt.subplots(figsize=(12, 5))\n",
    "ax.set(xlabel=\"Voxel\", ylabel=\"Stimulus\")\n",
    "heatmap = ax.imshow(dat[\"responses\"],\n",
    "                    aspect=\"auto\", vmin=-1, vmax=1, cmap=\"bwr\")\n",
    "fig.colorbar(heatmap, shrink=.5, label=\"Response amplitude (Z)\")\n",
    "fig.tight_layout()\n",
    "fig.show()"
   ]
  },
  {
   "cell_type": "markdown",
   "id": "49ee3668",
   "metadata": {},
   "source": [
    "The training/validation splits from the original paper are retained, so the 120 test stimuli and responses are in separate data structures:"
   ]
  },
  {
   "cell_type": "code",
   "execution_count": null,
   "id": "7fb3ac03",
   "metadata": {},
   "outputs": [],
   "source": [
    "fig, ax = plt.subplots(figsize=(12, 2.5))\n",
    "ax.set(xlabel=\"Voxel\", ylabel=\"Test Stimulus\")\n",
    "heatmap = ax.imshow(dat[\"responses_test\"],\n",
    "                    aspect=\"auto\", vmin=-1, vmax=1, cmap=\"bwr\")\n",
    "fig.colorbar(heatmap, shrink=.75, label=\"Response amplitude (Z)\")\n",
    "fig.tight_layout()\n",
    "fig.show()"
   ]
  }
 ],
 "metadata": {
  "jupytext": {
   "main_language": "python"
  },
  "kernelspec": {
   "display_name": "Python 3",
   "name": "python3"
  }
 },
 "nbformat": 4,
 "nbformat_minor": 5
}
