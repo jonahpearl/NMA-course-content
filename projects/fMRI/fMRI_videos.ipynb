{
 "cells": [
  {
   "cell_type": "markdown",
   "id": "e19e2327",
   "metadata": {
    "colab_type": "text",
    "id": "view-in-github"
   },
   "source": [
    "<a href=\"https://colab.research.google.com/github/NeuromatchAcademy/course-content/blob/main/projects/fMRI/fMRI_videos.ipynb\" target=\"_parent\"><img src=\"https://colab.research.google.com/assets/colab-badge.svg\" alt=\"Open In Colab\"/></a> &nbsp; <a href=\"https://kaggle.com/kernels/welcome?src=https://raw.githubusercontent.com/NeuromatchAcademy/course-content/main/projects/fMRI/fMRI_videos.ipynb\" target=\"_parent\"><img src=\"https://kaggle.com/static/images/open-in-kaggle.svg\" alt=\"Open in Kaggle\"/></a>"
   ]
  },
  {
   "cell_type": "markdown",
   "id": "f5fc7062",
   "metadata": {
    "pycharm": {
     "name": "#%% md\n"
    }
   },
   "source": [
    "# Overview videos\n",
    "\n"
   ]
  },
  {
   "cell_type": "markdown",
   "id": "2d3e447a",
   "metadata": {},
   "source": [
    "##  Video: Kay/Gallant dataset\n"
   ]
  },
  {
   "cell_type": "code",
   "execution_count": null,
   "id": "ab392e6f",
   "metadata": {
    "cellView": "form",
    "pycharm": {
     "name": "#%%\n"
    },
    "tags": [
     "remove-input"
    ]
   },
   "outputs": [],
   "source": [
    "# @markdown\n",
    "from ipywidgets import widgets\n",
    "\n",
    "out2 = widgets.Output()\n",
    "with out2:\n",
    "    from IPython.display import IFrame\n",
    "    class BiliVideo(IFrame):\n",
    "        def __init__(self, id, page=1, width=400, height=300, **kwargs):\n",
    "            self.id=id\n",
    "            src = 'https://player.bilibili.com/player.html?bvid={0}&page={1}'.format(id, page)\n",
    "            super(BiliVideo, self).__init__(src, width, height, **kwargs)\n",
    "\n",
    "    video = BiliVideo(id=\"\", width=730, height=410, fs=1)\n",
    "    print('Video available at https://www.bilibili.com/video/{0}'.format(video.id))\n",
    "    display(video)\n",
    "\n",
    "out1 = widgets.Output()\n",
    "with out1:\n",
    "    from IPython.display import YouTubeVideo\n",
    "    video = YouTubeVideo(id=\"LdJkLyw4yzg\", width=730, height=410, fs=1, rel=0)\n",
    "    print('Video available at https://youtube.com/watch?v=' + video.id)\n",
    "    display(video)\n",
    "\n",
    "out = widgets.Tab([out1, out2])\n",
    "out.set_title(0, 'Youtube')\n",
    "out.set_title(1, 'Bilibili')\n",
    "\n",
    "display(out)"
   ]
  },
  {
   "cell_type": "markdown",
   "id": "9c1f16f0",
   "metadata": {},
   "source": [
    "##  Video: HCP dataset\n"
   ]
  },
  {
   "cell_type": "code",
   "execution_count": null,
   "id": "38ba974f",
   "metadata": {
    "cellView": "form",
    "pycharm": {
     "name": "#%%\n"
    },
    "tags": [
     "remove-input"
    ]
   },
   "outputs": [],
   "source": [
    "# @markdown\n",
    "from ipywidgets import widgets\n",
    "\n",
    "out2 = widgets.Output()\n",
    "with out2:\n",
    "    from IPython.display import IFrame\n",
    "    class BiliVideo(IFrame):\n",
    "        def __init__(self, id, page=1, width=400, height=300, **kwargs):\n",
    "            self.id=id\n",
    "            src = 'https://player.bilibili.com/player.html?bvid={0}&page={1}'.format(id, page)\n",
    "            super(BiliVideo, self).__init__(src, width, height, **kwargs)\n",
    "\n",
    "    video = BiliVideo(id=\"\", width=730, height=410, fs=1)\n",
    "    print('Video available at https://www.bilibili.com/video/{0}'.format(video.id))\n",
    "    display(video)\n",
    "\n",
    "out1 = widgets.Output()\n",
    "with out1:\n",
    "    from IPython.display import YouTubeVideo\n",
    "    video = YouTubeVideo(id=\"iOCcY0QFMS4\", width=730, height=410, fs=1, rel=0)\n",
    "    print('Video available at https://youtube.com/watch?v=' + video.id)\n",
    "    display(video)\n",
    "\n",
    "out = widgets.Tab([out1, out2])\n",
    "out.set_title(0, 'Youtube')\n",
    "out.set_title(1, 'Bilibili')\n",
    "\n",
    "display(out)"
   ]
  },
  {
   "cell_type": "markdown",
   "id": "4b86bab4",
   "metadata": {},
   "source": [
    "##  Video: HCP dataset (2021 video)\n"
   ]
  },
  {
   "cell_type": "code",
   "execution_count": null,
   "id": "462c9aa3",
   "metadata": {
    "cellView": "form",
    "pycharm": {
     "name": "#%%\n"
    },
    "tags": [
     "remove-input"
    ]
   },
   "outputs": [],
   "source": [
    "# @markdown\n",
    "from ipywidgets import widgets\n",
    "\n",
    "out2 = widgets.Output()\n",
    "with out2:\n",
    "    from IPython.display import IFrame\n",
    "    class BiliVideo(IFrame):\n",
    "        def __init__(self, id, page=1, width=400, height=300, **kwargs):\n",
    "            self.id=id\n",
    "            src = 'https://player.bilibili.com/player.html?bvid={0}&page={1}'.format(id, page)\n",
    "            super(BiliVideo, self).__init__(src, width, height, **kwargs)\n",
    "\n",
    "    video = BiliVideo(id=\"BV12V411W7tD\", width=730, height=410, fs=1)\n",
    "    print('Video available at https://www.bilibili.com/video/{0}'.format(video.id))\n",
    "    display(video)\n",
    "\n",
    "out1 = widgets.Output()\n",
    "with out1:\n",
    "    from IPython.display import YouTubeVideo\n",
    "    video = YouTubeVideo(id=\"i30qePz_OGY\", width=730, height=410, fs=1, rel=0)\n",
    "    print('Video available at https://youtube.com/watch?v=' + video.id)\n",
    "    display(video)\n",
    "\n",
    "out = widgets.Tab([out1, out2])\n",
    "out.set_title(0, 'Youtube')\n",
    "out.set_title(1, 'Bilibili')\n",
    "\n",
    "display(out)"
   ]
  },
  {
   "cell_type": "markdown",
   "id": "2d3efe8b",
   "metadata": {},
   "source": [
    "##  Video: FSLcourse task fMRI\n"
   ]
  },
  {
   "cell_type": "code",
   "execution_count": null,
   "id": "614b8c11",
   "metadata": {
    "cellView": "form",
    "pycharm": {
     "name": "#%%\n"
    },
    "tags": [
     "remove-input"
    ]
   },
   "outputs": [],
   "source": [
    "# @markdown\n",
    "from ipywidgets import widgets\n",
    "\n",
    "out2 = widgets.Output()\n",
    "with out2:\n",
    "    from IPython.display import IFrame\n",
    "    class BiliVideo(IFrame):\n",
    "        def __init__(self, id, page=1, width=400, height=300, **kwargs):\n",
    "            self.id=id\n",
    "            src = 'https://player.bilibili.com/player.html?bvid={0}&page={1}'.format(id, page)\n",
    "            super(BiliVideo, self).__init__(src, width, height, **kwargs)\n",
    "\n",
    "    video = BiliVideo(id=\"BV1Bf4y1L7JN\", width=730, height=410, fs=1)\n",
    "    print('Video available at https://www.bilibili.com/video/{0}'.format(video.id))\n",
    "    display(video)\n",
    "\n",
    "out1 = widgets.Output()\n",
    "with out1:\n",
    "    from IPython.display import YouTubeVideo\n",
    "    video = YouTubeVideo(id=\"ZI-xFYubENw\", width=730, height=410, fs=1, rel=0)\n",
    "    print('Video available at https://youtube.com/watch?v=' + video.id)\n",
    "    display(video)\n",
    "\n",
    "out = widgets.Tab([out1, out2])\n",
    "out.set_title(0, 'Youtube')\n",
    "out.set_title(1, 'Bilibili')\n",
    "\n",
    "display(out)"
   ]
  },
  {
   "cell_type": "markdown",
   "id": "3387327b",
   "metadata": {},
   "source": [
    "##  Video: HCP retinotopy\n"
   ]
  },
  {
   "cell_type": "code",
   "execution_count": null,
   "id": "b727e149",
   "metadata": {
    "cellView": "form",
    "pycharm": {
     "name": "#%%\n"
    },
    "tags": [
     "remove-input"
    ]
   },
   "outputs": [],
   "source": [
    "# @markdown\n",
    "from ipywidgets import widgets\n",
    "\n",
    "out2 = widgets.Output()\n",
    "with out2:\n",
    "    from IPython.display import IFrame\n",
    "    class BiliVideo(IFrame):\n",
    "        def __init__(self, id, page=1, width=400, height=300, **kwargs):\n",
    "            self.id=id\n",
    "            src = 'https://player.bilibili.com/player.html?bvid={0}&page={1}'.format(id, page)\n",
    "            super(BiliVideo, self).__init__(src, width, height, **kwargs)\n",
    "\n",
    "    video = BiliVideo(id=\"BV1nX4y1w71n\", width=730, height=410, fs=1)\n",
    "    print('Video available at https://www.bilibili.com/video/{0}'.format(video.id))\n",
    "    display(video)\n",
    "\n",
    "out1 = widgets.Output()\n",
    "with out1:\n",
    "    from IPython.display import YouTubeVideo\n",
    "    video = YouTubeVideo(id=\"nssSiCmbjxw\", width=730, height=410, fs=1, rel=0)\n",
    "    print('Video available at https://youtube.com/watch?v=' + video.id)\n",
    "    display(video)\n",
    "\n",
    "out = widgets.Tab([out1, out2])\n",
    "out.set_title(0, 'Youtube')\n",
    "out.set_title(1, 'Bilibili')\n",
    "\n",
    "display(out)"
   ]
  },
  {
   "cell_type": "markdown",
   "id": "0fa7c2f8",
   "metadata": {},
   "source": [
    "##  Video: Algonauts dataset\n"
   ]
  },
  {
   "cell_type": "code",
   "execution_count": null,
   "id": "6097fbf5",
   "metadata": {
    "cellView": "form",
    "pycharm": {
     "name": "#%%\n"
    },
    "tags": [
     "remove-input"
    ]
   },
   "outputs": [],
   "source": [
    "# @markdown\n",
    "from ipywidgets import widgets\n",
    "\n",
    "out2 = widgets.Output()\n",
    "with out2:\n",
    "    from IPython.display import IFrame\n",
    "    class BiliVideo(IFrame):\n",
    "        def __init__(self, id, page=1, width=400, height=300, **kwargs):\n",
    "            self.id=id\n",
    "            src = 'https://player.bilibili.com/player.html?bvid={0}&page={1}'.format(id, page)\n",
    "            super(BiliVideo, self).__init__(src, width, height, **kwargs)\n",
    "\n",
    "    video = BiliVideo(id=\"BV1xy4y1K7bf\", width=730, height=410, fs=1)\n",
    "    print('Video available at https://www.bilibili.com/video/{0}'.format(video.id))\n",
    "    display(video)\n",
    "\n",
    "out1 = widgets.Output()\n",
    "with out1:\n",
    "    from IPython.display import YouTubeVideo\n",
    "    video = YouTubeVideo(id=\"TID48cMcneo\", width=730, height=410, fs=1, rel=0)\n",
    "    print('Video available at https://youtube.com/watch?v=' + video.id)\n",
    "    display(video)\n",
    "\n",
    "out = widgets.Tab([out1, out2])\n",
    "out.set_title(0, 'Youtube')\n",
    "out.set_title(1, 'Bilibili')\n",
    "\n",
    "display(out)"
   ]
  },
  {
   "cell_type": "markdown",
   "id": "2278938c",
   "metadata": {},
   "source": [
    "##  Video: Bonner dataset\n"
   ]
  },
  {
   "cell_type": "code",
   "execution_count": null,
   "id": "f3e710c2",
   "metadata": {
    "cellView": "form",
    "pycharm": {
     "name": "#%%\n"
    },
    "tags": [
     "remove-input"
    ]
   },
   "outputs": [],
   "source": [
    "# @markdown\n",
    "from ipywidgets import widgets\n",
    "\n",
    "out2 = widgets.Output()\n",
    "with out2:\n",
    "    from IPython.display import IFrame\n",
    "    class BiliVideo(IFrame):\n",
    "        def __init__(self, id, page=1, width=400, height=300, **kwargs):\n",
    "            self.id=id\n",
    "            src = 'https://player.bilibili.com/player.html?bvid={0}&page={1}'.format(id, page)\n",
    "            super(BiliVideo, self).__init__(src, width, height, **kwargs)\n",
    "\n",
    "    video = BiliVideo(id=\"BV1vV411W7EJ\", width=730, height=410, fs=1)\n",
    "    print('Video available at https://www.bilibili.com/video/{0}'.format(video.id))\n",
    "    display(video)\n",
    "\n",
    "out1 = widgets.Output()\n",
    "with out1:\n",
    "    from IPython.display import YouTubeVideo\n",
    "    video = YouTubeVideo(id=\"7NggvUlobQQ\", width=730, height=410, fs=1, rel=0)\n",
    "    print('Video available at https://youtube.com/watch?v=' + video.id)\n",
    "    display(video)\n",
    "\n",
    "out = widgets.Tab([out1, out2])\n",
    "out.set_title(0, 'Youtube')\n",
    "out.set_title(1, 'Bilibili')\n",
    "\n",
    "display(out)"
   ]
  },
  {
   "cell_type": "markdown",
   "id": "1ce2da1c",
   "metadata": {},
   "source": [
    "##  Video: Cichy dataset\n"
   ]
  },
  {
   "cell_type": "code",
   "execution_count": null,
   "id": "849520df",
   "metadata": {
    "cellView": "form",
    "pycharm": {
     "name": "#%%\n"
    },
    "tags": [
     "remove-input"
    ]
   },
   "outputs": [],
   "source": [
    "# @markdown\n",
    "from ipywidgets import widgets\n",
    "\n",
    "out2 = widgets.Output()\n",
    "with out2:\n",
    "    from IPython.display import IFrame\n",
    "    class BiliVideo(IFrame):\n",
    "        def __init__(self, id, page=1, width=400, height=300, **kwargs):\n",
    "            self.id=id\n",
    "            src = 'https://player.bilibili.com/player.html?bvid={0}&page={1}'.format(id, page)\n",
    "            super(BiliVideo, self).__init__(src, width, height, **kwargs)\n",
    "\n",
    "    video = BiliVideo(id=\"BV1xy4y1K72n\", width=730, height=410, fs=1)\n",
    "    print('Video available at https://www.bilibili.com/video/{0}'.format(video.id))\n",
    "    display(video)\n",
    "\n",
    "out1 = widgets.Output()\n",
    "with out1:\n",
    "    from IPython.display import YouTubeVideo\n",
    "    video = YouTubeVideo(id=\"I3_nA_6mq1g\", width=730, height=410, fs=1, rel=0)\n",
    "    print('Video available at https://youtube.com/watch?v=' + video.id)\n",
    "    display(video)\n",
    "\n",
    "out = widgets.Tab([out1, out2])\n",
    "out.set_title(0, 'Youtube')\n",
    "out.set_title(1, 'Bilibili')\n",
    "\n",
    "display(out)"
   ]
  }
 ],
 "metadata": {
  "kernelspec": {
   "display_name": "Python 3",
   "language": "python",
   "name": "python3"
  }
 },
 "nbformat": 4,
 "nbformat_minor": 5
}
