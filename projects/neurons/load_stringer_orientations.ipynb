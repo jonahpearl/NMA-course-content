{
 "cells": [
  {
   "cell_type": "markdown",
   "id": "6ef03d29",
   "metadata": {
    "colab_type": "text",
    "id": "view-in-github"
   },
   "source": [
    "<a href=\"https://colab.research.google.com/github/NeuromatchAcademy/course-content/blob/main/projects/neurons/load_stringer_orientations.ipynb\" target=\"_parent\"><img src=\"https://colab.research.google.com/assets/colab-badge.svg\" alt=\"Open In Colab\"/></a> &nbsp; <a href=\"https://kaggle.com/kernels/welcome?src=https://raw.githubusercontent.com/NeuromatchAcademy/course-content/main/projects/neurons/load_stringer_orientations.ipynb\" target=\"_parent\"><img src=\"https://kaggle.com/static/images/open-in-kaggle.svg\" alt=\"Open in Kaggle\"/></a>"
   ]
  },
  {
   "cell_type": "markdown",
   "id": "2e4deda0",
   "metadata": {},
   "source": [
    "## Loading of Stringer orientations data\n",
    "\n",
    "includes some visualizations"
   ]
  },
  {
   "cell_type": "code",
   "execution_count": null,
   "id": "47086843",
   "metadata": {
    "cellView": "form"
   },
   "outputs": [],
   "source": [
    "# @title Install depedencies\n",
    "!pip install umap-learn --quiet"
   ]
  },
  {
   "cell_type": "code",
   "execution_count": null,
   "id": "3e79a1d9",
   "metadata": {},
   "outputs": [],
   "source": [
    "import numpy as np\n",
    "import matplotlib.pyplot as plt\n",
    "from scipy.stats import zscore\n",
    "from sklearn.decomposition import PCA\n",
    "from umap import UMAP"
   ]
  },
  {
   "cell_type": "code",
   "execution_count": null,
   "id": "037e33b1",
   "metadata": {
    "cellView": "form"
   },
   "outputs": [],
   "source": [
    "#@title Data retrieval\n",
    "import os, requests\n",
    "\n",
    "fname = \"stringer_orientations.npy\"\n",
    "url = \"https://osf.io/ny4ut/download\"\n",
    "\n",
    "if not os.path.isfile(fname):\n",
    "    try:\n",
    "        r = requests.get(url)\n",
    "    except requests.ConnectionError:\n",
    "        print(\"!!! Failed to download data !!!\")\n",
    "    else:\n",
    "        if r.status_code != requests.codes.ok:\n",
    "            print(\"!!! Failed to download data !!!\")\n",
    "        else:\n",
    "            with open(fname, \"wb\") as fid:\n",
    "                fid.write(r.content)"
   ]
  },
  {
   "cell_type": "code",
   "execution_count": null,
   "id": "9d9d39a7",
   "metadata": {
    "cellView": "form"
   },
   "outputs": [],
   "source": [
    "# @title Figure settings\n",
    "from matplotlib import rcParams\n",
    "\n",
    "rcParams['figure.figsize'] = [20, 4]\n",
    "rcParams['font.size'] = 15\n",
    "rcParams['axes.spines.top'] = False\n",
    "rcParams['axes.spines.right'] = False\n",
    "rcParams['figure.autolayout'] = True"
   ]
  },
  {
   "cell_type": "code",
   "execution_count": null,
   "id": "58ebb775",
   "metadata": {
    "cellView": "form"
   },
   "outputs": [],
   "source": [
    "# @title Data loading\n",
    "\n",
    "dat = np.load('stringer_orientations.npy', allow_pickle=True).item()\n",
    "print(dat.keys())"
   ]
  },
  {
   "cell_type": "markdown",
   "id": "4a5dfdde",
   "metadata": {},
   "source": [
    "dat has fields:\n",
    "* `dat['sresp']`: neurons by stimuli, a.k.a. the neural response data (23589 by 4598)\n",
    "* `dat['xyz']`: three-dimensional position of each neuron in the brain.\n",
    "* `dat['run']`: 1 by stimuli, a.k.a. the running speed of the animal in a.u.\n",
    "* `dat['istim']`: 1 by stimuli, goes from 0 to 2*np.pi, the orientations shown on each trial\n",
    "* `dat['u_spont']`: neurons by 128, the weights for the top 128 principal components of spontaneous activity. Unit norm.\n",
    "* `dat['v_spont']`: 128 by 910, the timecourses for the top 128 PCs of spont activity.\n",
    "* `dat['u_spont'] @ dat['v_spont']`: a reconstruction of the spontaneous activity for 910 timepoints interspersed throughout the recording.\n",
    "* `dat['stat']`: 1 by neurons, some statistics for each neuron, see Suite2p for full documentation.\n"
   ]
  },
  {
   "cell_type": "code",
   "execution_count": null,
   "id": "34c0dac2",
   "metadata": {},
   "outputs": [],
   "source": [
    "print(dat['sresp'].shape)\n",
    "print(len(dat['stat']))"
   ]
  },
  {
   "cell_type": "code",
   "execution_count": null,
   "id": "f77b77b6",
   "metadata": {
    "cellView": "form"
   },
   "outputs": [],
   "source": [
    "# @title plot the 3D positions of all neurons\n",
    "from mpl_toolkits.mplot3d import Axes3D\n",
    "from matplotlib import cm\n",
    "\n",
    "x, y, z = dat['xyz']\n",
    "\n",
    "zunq, iunq = np.unique(z, return_inverse=True)\n",
    "xc = np.linspace(0.0, 1.0, len(zunq))\n",
    "cmap = cm.get_cmap('jet')(xc)\n",
    "\n",
    "fig = plt.figure(figsize=(6, 6))\n",
    "ax = fig.add_subplot(111, projection='3d')\n",
    "ax.scatter(x[::-1], y[::-1], z[::-1], 'o', s=4, c=cmap[iunq])\n",
    "ax.set(xlabel='horizontal(um)', ylabel='vertical(um)', zlabel='depth (um)')\n",
    "plt.show()"
   ]
  },
  {
   "cell_type": "code",
   "execution_count": null,
   "id": "ceee67a8",
   "metadata": {
    "cellView": "form"
   },
   "outputs": [],
   "source": [
    "# @title Basic data properties using plot, hist and scatter\n",
    "ax = plt.subplot(1, 5, 1)\n",
    "plt.hist(dat['istim'])\n",
    "ax.set(xlabel='orientations', ylabel='# trials')\n",
    "\n",
    "ax = plt.subplot(1, 5, 2)\n",
    "plt.scatter(dat['istim'], dat['sresp'][1000], s=1)\n",
    "ax.set(xlabel='orientation', ylabel='neural response')\n",
    "\n",
    "ax = plt.subplot(1, 5, 3)\n",
    "plt.plot(dat['run'][:1000])\n",
    "ax.set(xlabel='timepoints', ylabel='running')\n",
    "\n",
    "ax = plt.subplot(1, 5, 4)\n",
    "plt.scatter(dat['run'], dat['sresp'][20998], s=1)\n",
    "ax.set(xlabel='running', ylabel='neural response')\n",
    "\n",
    "plt.show()"
   ]
  },
  {
   "cell_type": "code",
   "execution_count": null,
   "id": "be8d4301",
   "metadata": {
    "cellView": "form"
   },
   "outputs": [],
   "source": [
    "# @title take PCA after preparing data by z-score\n",
    "\n",
    "Z = zscore(dat['sresp'], axis=1)\n",
    "X = PCA(n_components=200).fit_transform(Z.T)"
   ]
  },
  {
   "cell_type": "code",
   "execution_count": null,
   "id": "49236c2c",
   "metadata": {
    "cellView": "form"
   },
   "outputs": [],
   "source": [
    "# @title plot PCs as function of stimulus orientation\n",
    "for j in range(5):\n",
    "    ax = plt.subplot(1, 5, j + 1)\n",
    "    plt.scatter(dat['istim'], X[:, j], s=1)\n",
    "    ax.set(xlabel='orientation', ylabel='PC%d'%j)\n",
    "plt.show()"
   ]
  },
  {
   "cell_type": "code",
   "execution_count": null,
   "id": "8a25a6b0",
   "metadata": {
    "cellView": "form"
   },
   "outputs": [],
   "source": [
    "# @title run a manifold embedding algorithm (UMAP) in two or three dimensions.\n",
    "\n",
    "ncomp = 3  # try 2, then try 3\n",
    "xinit = 3 * zscore(X[:, :ncomp], axis=0)\n",
    "embed = UMAP(n_components=ncomp, init=xinit, n_neighbors=25,\n",
    "             metric='correlation', transform_seed=42).fit_transform(X)"
   ]
  },
  {
   "cell_type": "code",
   "execution_count": null,
   "id": "59b5ace2",
   "metadata": {},
   "outputs": [],
   "source": [
    "plt.figure(figsize=(8,8))\n",
    "for i in range(ncomp):\n",
    "    for j in range(ncomp):\n",
    "        plt.subplot(ncomp,ncomp, j + ncomp*i + 1)\n",
    "        if i == j:\n",
    "            plt.scatter(dat['istim'], embed[:, i], s=1)\n",
    "        else:\n",
    "            plt.scatter(embed[:, j], embed[:, i], s=1, c=dat['istim'], cmap='hsv')\n",
    "plt.show()"
   ]
  },
  {
   "cell_type": "code",
   "execution_count": null,
   "id": "a010f8f3",
   "metadata": {},
   "outputs": [],
   "source": [
    "plt.figure(figsize=(8, 4))\n",
    "plt.subplot(1, 2, 1)\n",
    "plt.scatter(embed[:, 0], embed[:, 2], s=4, c=dat['istim'], cmap='hsv')\n",
    "plt.title('colored by stimulus orientation')\n",
    "\n",
    "plt.subplot(1, 2, 2)\n",
    "plt.scatter(embed[:, 0], embed[:, 2], s=4, c=dat['run'], vmin=0, vmax=10)\n",
    "plt.title('colored by running speed')\n",
    "plt.show()"
   ]
  }
 ],
 "metadata": {
  "jupytext": {
   "main_language": "python"
  },
  "kernelspec": {
   "display_name": "Python 3",
   "name": "python3"
  }
 },
 "nbformat": 4,
 "nbformat_minor": 5
}
