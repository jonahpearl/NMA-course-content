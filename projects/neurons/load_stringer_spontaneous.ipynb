{
 "cells": [
  {
   "cell_type": "markdown",
   "id": "f63f6641",
   "metadata": {
    "colab_type": "text",
    "id": "view-in-github"
   },
   "source": [
    "<a href=\"https://colab.research.google.com/github/NeuromatchAcademy/course-content/blob/main/projects/neurons/load_stringer_spontaneous.ipynb\" target=\"_parent\"><img src=\"https://colab.research.google.com/assets/colab-badge.svg\" alt=\"Open In Colab\"/></a> &nbsp; <a href=\"https://kaggle.com/kernels/welcome?src=https://raw.githubusercontent.com/NeuromatchAcademy/course-content/main/projects/neurons/load_stringer_spontaneous.ipynb\" target=\"_parent\"><img src=\"https://kaggle.com/static/images/open-in-kaggle.svg\" alt=\"Open in Kaggle\"/></a>"
   ]
  },
  {
   "cell_type": "markdown",
   "id": "2f04af8f",
   "metadata": {},
   "source": [
    "## Loading of Stringer spontaneous data\n",
    "\n",
    "includes some visualizations"
   ]
  },
  {
   "cell_type": "code",
   "execution_count": null,
   "id": "87055813",
   "metadata": {
    "cellView": "form"
   },
   "outputs": [],
   "source": [
    "# @title Install dependencies\n",
    "!pip install umap-learn --quiet"
   ]
  },
  {
   "cell_type": "code",
   "execution_count": null,
   "id": "251dea15",
   "metadata": {},
   "outputs": [],
   "source": [
    "import numpy as np\n",
    "import matplotlib.pyplot as plt\n",
    "from umap import UMAP\n",
    "from scipy.ndimage import uniform_filter1d\n",
    "from scipy.stats import zscore\n",
    "from sklearn.decomposition import PCA"
   ]
  },
  {
   "cell_type": "code",
   "execution_count": null,
   "id": "ef665597",
   "metadata": {
    "cellView": "form"
   },
   "outputs": [],
   "source": [
    "# @title Figure settings\n",
    "from matplotlib import rcParams\n",
    "\n",
    "rcParams['figure.figsize'] = [20, 4]\n",
    "rcParams['font.size'] =15\n",
    "rcParams['axes.spines.top'] = False\n",
    "rcParams['axes.spines.right'] = False\n",
    "rcParams['figure.autolayout'] = True"
   ]
  },
  {
   "cell_type": "code",
   "execution_count": null,
   "id": "05c45ecf",
   "metadata": {
    "cellView": "form"
   },
   "outputs": [],
   "source": [
    "# @title Data retrieval\n",
    "import os, requests\n",
    "\n",
    "fname = \"stringer_spontaneous.npy\"\n",
    "url = \"https://osf.io/dpqaj/download\"\n",
    "\n",
    "if not os.path.isfile(fname):\n",
    "    try:\n",
    "        r = requests.get(url)\n",
    "    except requests.ConnectionError:\n",
    "        print(\"!!! Failed to download data !!!\")\n",
    "    else:\n",
    "        if r.status_code != requests.codes.ok:\n",
    "            print(\"!!! Failed to download data !!!\")\n",
    "        else:\n",
    "            with open(fname, \"wb\") as fid:\n",
    "                fid.write(r.content)"
   ]
  },
  {
   "cell_type": "code",
   "execution_count": null,
   "id": "7b9554db",
   "metadata": {
    "cellView": "form"
   },
   "outputs": [],
   "source": [
    "# @title Data loading\n",
    "\n",
    "dat = np.load('stringer_spontaneous.npy', allow_pickle=True).item()\n",
    "print(dat.keys())"
   ]
  },
  {
   "cell_type": "markdown",
   "id": "2855ee1b",
   "metadata": {},
   "source": [
    "\n",
    "dat has fields:\n",
    "* `dat['sresp']`: neurons by timebins, a.k.a. the neural response data (11983 by 7018). Timebin = 1.2 sec.\n",
    "* `dat['run']`: timebins by 1, a.k.a. the running speed of the animal in a.u.\n",
    "* `dat['xyz']`: three-dimensional position of each neuron in the brain.\n",
    "* `dat['pupilArea']`: timebins by 1, see FaceMap for details on the pupil tracker\n",
    "* `dat['pupilCOM']`: timebins by 2, correspond to X and Y position. See FaceMap for details on the pupil tracker.\n",
    "* `dat['beh_svd_time']`: timebins by 1,000. Timecourses of behavioral SVDs extracted from face movies. See FaceMap for details.\n",
    "* `dat['beh_svd_mask']`: 240 by 320 by 1,000. Spatial masks of behavioral SVDs. Roughly normalized to each other.\n",
    "* `dat['beh_svd_mask'] @ dat['beh_svd_time'][T, :]`:  reconstruction of the face movie (its motion energy) for frame T\n",
    "* `dat['stat']`: 1 by neurons, some statistics for each neuron, see Suite2p for full documentation."
   ]
  },
  {
   "cell_type": "code",
   "execution_count": null,
   "id": "d8b7b96c",
   "metadata": {},
   "outputs": [],
   "source": [
    "print(dat['sresp'].shape)\n",
    "print(len(dat['stat']))"
   ]
  },
  {
   "cell_type": "code",
   "execution_count": null,
   "id": "265cdf7a",
   "metadata": {
    "cellView": "form"
   },
   "outputs": [],
   "source": [
    "# @title plot the 3D positions of all neurons\n",
    "from mpl_toolkits.mplot3d import Axes3D\n",
    "from matplotlib import cm\n",
    "\n",
    "x, y, z = dat['xyz']\n",
    "\n",
    "zunq, iunq = np.unique(z, return_inverse=True)\n",
    "xc = np.linspace(0.0, 1.0, len(zunq))\n",
    "cmap = cm.get_cmap('jet')(xc)\n",
    "\n",
    "fig = plt.figure(figsize=(6, 6))\n",
    "ax = fig.add_subplot(111, projection='3d')\n",
    "ax.scatter(x[::-1],y[::-1], z[::-1], 'o', s=4, c=cmap[iunq])\n",
    "ax.set(xlabel='horizontal(um)', ylabel='vertical(um)', zlabel='depth (um)')\n",
    "plt.show()"
   ]
  },
  {
   "cell_type": "code",
   "execution_count": null,
   "id": "09b12a32",
   "metadata": {
    "cellView": "form"
   },
   "outputs": [],
   "source": [
    "# @title Basic properties of behavioral data using plot and scatter\n",
    "ax = plt.subplot(1, 5, 1)\n",
    "plt.plot(dat['pupilArea'][:500, 0])\n",
    "ax.set(xlabel='timepoints', ylabel='pupil area')\n",
    "\n",
    "ax = plt.subplot(1, 5, 2)\n",
    "plt.plot(dat['pupilCOM'][:500, :])\n",
    "ax.set(xlabel='timepoints', ylabel='pupil XY position')\n",
    "\n",
    "ax = plt.subplot(1, 5, 3)\n",
    "plt.plot(dat['beh_svd_time'][:500, 0])\n",
    "ax.set(xlabel='timepoints', ylabel='face SVD #0')\n",
    "\n",
    "ax = plt.subplot(1, 5, 4)\n",
    "plt.plot(dat['beh_svd_time'][:500, 1])\n",
    "ax.set(xlabel='timepoints', ylabel='face SVD #1')\n",
    "\n",
    "ax = plt.subplot(1, 5, 5)\n",
    "plt.scatter(dat['beh_svd_time'][:, 0], dat['beh_svd_time'][:, 1], s=1)\n",
    "ax.set(xlabel='face SVD #0', ylabel='face SVD #1')\n",
    "\n",
    "plt.show()"
   ]
  },
  {
   "cell_type": "code",
   "execution_count": null,
   "id": "a262dc19",
   "metadata": {
    "cellView": "form"
   },
   "outputs": [],
   "source": [
    "# @title take PCA after preparing data by z-score\n",
    "\n",
    "Z = zscore(dat['sresp'], axis=1)\n",
    "Z = np.nan_to_num(Z)\n",
    "X = PCA(n_components=200).fit_transform(Z)"
   ]
  },
  {
   "cell_type": "code",
   "execution_count": null,
   "id": "cee47ec2",
   "metadata": {
    "cellView": "form"
   },
   "outputs": [],
   "source": [
    "# @title Plot PCs. Too many points, switch to logarithmic hexbin!\n",
    "ax = plt.subplot(1, 5, 1)\n",
    "plt.scatter(X[:, 0], X[:, 1], s=4, alpha=.1)\n",
    "ax.set(xlabel='PC 0 ', ylabel='PC 1')\n",
    "\n",
    "ax = plt.subplot(1, 5, 2)\n",
    "plt.hexbin(X[:, 0], X[:, 1], gridsize=40, bins='log')\n",
    "ax.set(xlabel='PC 0 ', ylabel='PC 1', alpha=.1)\n",
    "\n",
    "plt.show()"
   ]
  },
  {
   "cell_type": "code",
   "execution_count": null,
   "id": "39cd60f6",
   "metadata": {
    "cellView": "form"
   },
   "outputs": [],
   "source": [
    "# @title run a manifold embedding algorithm (UMAP) in two or three dimensions.\n",
    "\n",
    "ncomp = 1 # try 2, then try 3\n",
    "xinit = 1 * zscore(X[:, :ncomp], axis=0)\n",
    "embed = UMAP(n_components=ncomp, init=xinit, n_neighbors=20,\n",
    "             metric='correlation', transform_seed=42).fit_transform(X)"
   ]
  },
  {
   "cell_type": "code",
   "execution_count": null,
   "id": "4d884441",
   "metadata": {},
   "outputs": [],
   "source": [
    "embed = embed.flatten()\n",
    "isort = np.argsort(embed)\n",
    "RasterMap = uniform_filter1d(Z[isort, :], size=50, axis=0)\n",
    "RasterMap = zscore(RasterMap[::10, :], axis=1)"
   ]
  },
  {
   "cell_type": "code",
   "execution_count": null,
   "id": "77cebe03",
   "metadata": {},
   "outputs": [],
   "source": [
    "plt.figure(figsize=(16, 8))\n",
    "ax = plt.subplot(111)\n",
    "trange = np.arange(1100, 1400)\n",
    "plt.imshow(RasterMap[:, trange], vmax= 3, vmin=-1, aspect='auto', cmap='gray_r')\n",
    "ax.set(xlabel='timepoints', ylabel='sorted neurons')\n",
    "plt.show()"
   ]
  },
  {
   "cell_type": "code",
   "execution_count": null,
   "id": "dce7c2ed",
   "metadata": {},
   "outputs": [],
   "source": [
    "# now sort with UMAP both the neuron axis and the timepoints axis, bin the sorted matrix and make a sorted Rastermap picture"
   ]
  }
 ],
 "metadata": {
  "jupytext": {
   "main_language": "python"
  },
  "kernelspec": {
   "display_name": "Python 3",
   "name": "python3"
  }
 },
 "nbformat": 4,
 "nbformat_minor": 5
}
