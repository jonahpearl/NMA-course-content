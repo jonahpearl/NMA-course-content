{
 "cells": [
  {
   "cell_type": "markdown",
   "id": "e3f424b2",
   "metadata": {
    "colab_type": "text",
    "id": "view-in-github"
   },
   "source": [
    "<a href=\"https://colab.research.google.com/github/NeuromatchAcademy/course-content/blob/main/projects/neurons/neurons_videos.ipynb\" target=\"_parent\"><img src=\"https://colab.research.google.com/assets/colab-badge.svg\" alt=\"Open In Colab\"/></a> &nbsp; <a href=\"https://kaggle.com/kernels/welcome?src=https://raw.githubusercontent.com/NeuromatchAcademy/course-content/main/projects/neurons/neurons_videos.ipynb\" target=\"_parent\"><img src=\"https://kaggle.com/static/images/open-in-kaggle.svg\" alt=\"Open in Kaggle\"/></a>"
   ]
  },
  {
   "cell_type": "markdown",
   "id": "c8789d06",
   "metadata": {
    "pycharm": {
     "name": "#%% md\n"
    }
   },
   "source": [
    "# Overview videos\n",
    "\n"
   ]
  },
  {
   "cell_type": "markdown",
   "id": "eb960ffd",
   "metadata": {},
   "source": [
    "##  Video: Steinmetz dataset\n"
   ]
  },
  {
   "cell_type": "code",
   "execution_count": null,
   "id": "7ae21b95",
   "metadata": {
    "cellView": "form",
    "pycharm": {
     "name": "#%%\n"
    },
    "tags": [
     "remove-input"
    ]
   },
   "outputs": [],
   "source": [
    "# @markdown\n",
    "from ipywidgets import widgets\n",
    "\n",
    "out2 = widgets.Output()\n",
    "with out2:\n",
    "    from IPython.display import IFrame\n",
    "    class BiliVideo(IFrame):\n",
    "        def __init__(self, id, page=1, width=400, height=300, **kwargs):\n",
    "            self.id=id\n",
    "            src = 'https://player.bilibili.com/player.html?bvid={0}&page={1}'.format(id, page)\n",
    "            super(BiliVideo, self).__init__(src, width, height, **kwargs)\n",
    "\n",
    "    video = BiliVideo(id=\"\", width=730, height=410, fs=1)\n",
    "    print('Video available at https://www.bilibili.com/video/{0}'.format(video.id))\n",
    "    display(video)\n",
    "\n",
    "out1 = widgets.Output()\n",
    "with out1:\n",
    "    from IPython.display import YouTubeVideo\n",
    "    video = YouTubeVideo(id=\"WXn4-FpVaOo\", width=730, height=410, fs=1, rel=0)\n",
    "    print('Video available at https://youtube.com/watch?v=' + video.id)\n",
    "    display(video)\n",
    "\n",
    "out = widgets.Tab([out1, out2])\n",
    "out.set_title(0, 'Youtube')\n",
    "out.set_title(1, 'Bilibili')\n",
    "\n",
    "display(out)\n"
   ]
  },
  {
   "cell_type": "markdown",
   "id": "f09a1581",
   "metadata": {},
   "source": [
    "##  Video: Stringer dataset\n"
   ]
  },
  {
   "cell_type": "code",
   "execution_count": null,
   "id": "d27a833d",
   "metadata": {
    "cellView": "form",
    "pycharm": {
     "name": "#%%\n"
    },
    "tags": [
     "remove-input"
    ]
   },
   "outputs": [],
   "source": [
    "# @markdown\n",
    "from ipywidgets import widgets\n",
    "\n",
    "out2 = widgets.Output()\n",
    "with out2:\n",
    "    from IPython.display import IFrame\n",
    "    class BiliVideo(IFrame):\n",
    "        def __init__(self, id, page=1, width=400, height=300, **kwargs):\n",
    "            self.id=id\n",
    "            src = 'https://player.bilibili.com/player.html?bvid={0}&page={1}'.format(id, page)\n",
    "            super(BiliVideo, self).__init__(src, width, height, **kwargs)\n",
    "\n",
    "    video = BiliVideo(id=\"\", width=730, height=410, fs=1)\n",
    "    print('Video available at https://www.bilibili.com/video/{0}'.format(video.id))\n",
    "    display(video)\n",
    "\n",
    "out1 = widgets.Output()\n",
    "with out1:\n",
    "    from IPython.display import YouTubeVideo\n",
    "    video = YouTubeVideo(id=\"78GSgf6Dkkk\", width=730, height=410, fs=1, rel=0)\n",
    "    print('Video available at https://youtube.com/watch?v=' + video.id)\n",
    "    display(video)\n",
    "\n",
    "out = widgets.Tab([out1, out2])\n",
    "out.set_title(0, 'Youtube')\n",
    "out.set_title(1, 'Bilibili')\n",
    "\n",
    "display(out)"
   ]
  },
  {
   "cell_type": "markdown",
   "id": "0cd1ff0a",
   "metadata": {},
   "source": [
    "##  Video: Allen Institute dataset\n"
   ]
  },
  {
   "cell_type": "code",
   "execution_count": null,
   "id": "30f02b3f",
   "metadata": {
    "cellView": "form"
   },
   "outputs": [],
   "source": [
    "# @markdown\n",
    "from ipywidgets import widgets\n",
    "\n",
    "out2 = widgets.Output()\n",
    "with out2:\n",
    "    from IPython.display import IFrame\n",
    "    class BiliVideo(IFrame):\n",
    "        def __init__(self, id, page=1, width=400, height=300, **kwargs):\n",
    "            self.id=id\n",
    "            src = 'https://player.bilibili.com/player.html?bvid={0}&page={1}'.format(id, page)\n",
    "            super(BiliVideo, self).__init__(src, width, height, **kwargs)\n",
    "\n",
    "    video = BiliVideo(id=\"BV1KL411W7bY\", width=730, height=410, fs=1)\n",
    "    print('Video available at https://www.bilibili.com/video/{0}'.format(video.id))\n",
    "    display(video)\n",
    "\n",
    "out1 = widgets.Output()\n",
    "with out1:\n",
    "    from IPython.display import YouTubeVideo\n",
    "    video = YouTubeVideo(id=\"3YP-GYvYnuA\", width=730, height=410, fs=1, rel=0)\n",
    "    print('Video available at https://youtube.com/watch?v=' + video.id)\n",
    "    display(video)\n",
    "\n",
    "out = widgets.Tab([out1, out2])\n",
    "out.set_title(0, 'Youtube')\n",
    "out.set_title(1, 'Bilibili')\n",
    "\n",
    "display(out)"
   ]
  }
 ],
 "metadata": {
  "kernelspec": {
   "display_name": "Python 3",
   "language": "python",
   "name": "python3"
  }
 },
 "nbformat": 4,
 "nbformat_minor": 5
}
