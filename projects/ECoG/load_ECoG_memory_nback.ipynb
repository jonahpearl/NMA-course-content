{
 "cells": [
  {
   "cell_type": "markdown",
   "id": "41c6c67e",
   "metadata": {
    "colab_type": "text",
    "id": "view-in-github"
   },
   "source": [
    "<a href=\"https://colab.research.google.com/github/NeuromatchAcademy/course-content/blob/main/projects/ECoG/load_ECoG_memory_nback.ipynb\" target=\"_parent\"><img src=\"https://colab.research.google.com/assets/colab-badge.svg\" alt=\"Open In Colab\"/></a> &nbsp; <a href=\"https://kaggle.com/kernels/welcome?src=https://raw.githubusercontent.com/NeuromatchAcademy/course-content/main/projects/ECoG/load_ECoG_memory_nback.ipynb\" target=\"_parent\"><img src=\"https://kaggle.com/static/images/open-in-kaggle.svg\" alt=\"Open in Kaggle\"/></a>"
   ]
  },
  {
   "cell_type": "markdown",
   "id": "91bbd265",
   "metadata": {},
   "source": [
    "## Loading of Miller ECoG data of the memory nback task\n",
    "\n",
    "includes some visualizations"
   ]
  },
  {
   "cell_type": "code",
   "execution_count": null,
   "id": "ded8838f",
   "metadata": {
    "cellView": "form"
   },
   "outputs": [],
   "source": [
    "# @title Data retrieval\n",
    "import os, requests\n",
    "\n",
    "fname = 'memory_nback.npz'\n",
    "url = \"https://osf.io/xfc7e/download\"\n",
    "\n",
    "if not os.path.isfile(fname):\n",
    "    try:\n",
    "        r = requests.get(url)\n",
    "    except requests.ConnectionError:\n",
    "        print(\"!!! Failed to download data !!!\")\n",
    "    else:\n",
    "        if r.status_code != requests.codes.ok:\n",
    "            print(\"!!! Failed to download data !!!\")\n",
    "        else:\n",
    "            with open(fname, \"wb\") as fid:\n",
    "                fid.write(r.content)"
   ]
  },
  {
   "cell_type": "code",
   "execution_count": null,
   "id": "466b1d63",
   "metadata": {
    "cellView": "form"
   },
   "outputs": [],
   "source": [
    "# @title Install packages (`nilearn`, `nimare`, `duecredit`), import `matplotlib` and set defaults\n",
    "# install packages to visualize brains and electrode locations\n",
    "!pip install nilearn --quiet\n",
    "!pip install nimare --quiet\n",
    "!pip install duecredit --quiet\n",
    "\n",
    "from matplotlib import rcParams\n",
    "from matplotlib import pyplot as plt\n",
    "\n",
    "rcParams['figure.figsize'] = [20, 4]\n",
    "rcParams['font.size'] = 15\n",
    "rcParams['axes.spines.top'] = False\n",
    "rcParams['axes.spines.right'] = False\n",
    "rcParams['figure.autolayout'] = True"
   ]
  },
  {
   "cell_type": "code",
   "execution_count": null,
   "id": "73dc2b76",
   "metadata": {
    "cellView": "form"
   },
   "outputs": [],
   "source": [
    "# @title Data loading\n",
    "import numpy as np\n",
    "\n",
    "alldat = np.load(fname, allow_pickle=True)['dat']\n",
    "\n",
    "# Select just one of the recordings here. This is subject 1, block 1.\n",
    "dat = alldat[1][1]\n",
    "\n",
    "print(dat.keys())"
   ]
  },
  {
   "cell_type": "markdown",
   "id": "4814d742",
   "metadata": {},
   "source": [
    "---\n",
    "# Dataset info\n",
    "\n",
    "This is one of multiple ECoG datasets from Miller 2019, recorded in clinical settings with a variety of tasks. Raw data here:\n",
    "\n",
    "https://exhibits.stanford.edu/data/catalog/zk881ps0522\n",
    "\n",
    "`dat` contain 3 sessions from 3 subjects, and was not yet used in a publication, so it's fresh data for you to analyze! The following references using other datasets may be useful for the memory n-back task:\n",
    "\n",
    "- Brouwer, Anne-Marie, et al. \"Estimating workload using EEG spectral power and ERPs in the n-back task.\" Journal of Neural Engineering 9.4 (2012): 045008. doi: [10.1088/1741-2560/9/4/045008](https://doi.org/10.1088/1741-2560/9/4/045008)\n",
    "\n",
    "- Grissmann, Sebastian, et al. \"Electroencephalography based analysis of working memory load and affective valence in an n-back task with emotional stimuli.\" Frontiers in Human Neuroscience 11 (2017): 616. doi: [10.3389/fnhum.2017.00616](https://doi.org/10.3389/fnhum.2017.00616)\n",
    "\n",
    "Each subject's data is divided into 5 sessions: fixation, exp1, exp2, exp3, fixation, which are consecutive blocks in the data structure (i.e. `alldat[0][0]`, `alldat[0][1]`, ..., `alldat[0][4]` for subject 0). Exp1 is a \"0-back\" memory experiment, where the subjects have to identify the picture of one of the houses (stimid = 10), which they have memorized at the beginning of the stimulus block. Exp2 is a 1-back memory experiment, where the participants have to respond to images of repeated houses. Finally, exp3 is 2-back where participants respond to pictures of houses that are repeated after another intervening random picture. This task was hard for these participants and most of them did not really respond at all, but the data can still be used to ask questions about overall shifts of neural activity in a hard task when the subjects feel overwhelmed by the memory requirements.\n",
    "\n",
    "Note that for the third/last subject, no response data was collected, so only the first two subjects can be analyzed for their correct / incorrect trials.\n",
    "\n",
    "Sample rate is always 1000Hz, and the ECoG data has been notch-filtered at 60, 120, 180, 240 and 250Hz, followed by z-scoring across the entire recording and conversion to float16 to minimize size.\n",
    "\n",
    "Variables for each block within each subject:\n",
    "* `dat['V']`: continuous voltage data (time by channels)\n",
    "* `dat['expinfo']`: experiment type for this block\n",
    "* `dat['srate']`: sampling rate for voltage data, always 1000Hz\n",
    "* `dat['t_on']`: time of stimulus onset in data samples\n",
    "* `dat['t_off']`: time of stimulus offset, usually 600 samples after `t_on`\n",
    "* `dat['stim_id`]: identity of house stimulus from 1 to 40. Stimulus 10 was the target in the 0-back task.\n",
    "* `dat['target']`: 0 or 1, indicates if this stimulus requires a response\n",
    "* `dat['response']`: 0 or 1, indicates if the subject actually made a response\n",
    "* `dat['rt']`: reaction time for trials with a response in voltage data samples (1000Hz).\n",
    "* `dat['locs']`: 3D locations of the electrodes on the cortical surface"
   ]
  },
  {
   "cell_type": "code",
   "execution_count": null,
   "id": "975ffcb0",
   "metadata": {},
   "outputs": [],
   "source": [
    "from nilearn import plotting\n",
    "from nimare import utils\n",
    "\n",
    "plt.figure(figsize=(8, 8))\n",
    "locs = dat['locs']\n",
    "view = plotting.view_markers(utils.tal2mni(locs),\n",
    "                             marker_labels=['%d'%k for k in np.arange(locs.shape[0])],\n",
    "                             marker_color='purple',\n",
    "                             marker_size=5)\n",
    "view"
   ]
  },
  {
   "cell_type": "code",
   "execution_count": null,
   "id": "f6d78e35",
   "metadata": {},
   "outputs": [],
   "source": [
    "# compute spectral power above 50Hz and low-pass below 10Hz\n",
    "# power is always positive, so we normalize it by its average\n",
    "from scipy import signal\n",
    "\n",
    "# pick subject 1 and experiment 1\n",
    "dat = alldat[1][1]\n",
    "V = dat['V'].astype('float32') # always convert the voltage data to float32!\n",
    "\n",
    "# high-pass filter above 50 Hz\n",
    "b, a = signal.butter(3, [50], btype='high', fs=1000)\n",
    "V = signal.filtfilt(b, a, V, 0)\n",
    "\n",
    "# compute smooth envelope of this signal = approx power\n",
    "V = np.abs(V)**2\n",
    "b, a = signal.butter(3, [10], btype='low', fs=1000)\n",
    "V = signal.filtfilt(b, a, V, 0)\n",
    "\n",
    "# normalize each channel so its mean power is 1\n",
    "V = V/V.mean(0)"
   ]
  },
  {
   "cell_type": "code",
   "execution_count": null,
   "id": "c2098ed9",
   "metadata": {},
   "outputs": [],
   "source": [
    "# divide into trials and average\n",
    "nt, nchan = V.shape\n",
    "nstim = len(dat['t_on'])\n",
    "\n",
    "# use a timerange from 400ms before to 1600ms after the stimulus onset\n",
    "trange = np.arange(-400, 1600)\n",
    "ts = dat['t_on'][:, np.newaxis] + trange\n",
    "V_epochs = np.reshape(V[ts, :], (nstim, 2000, nchan))\n",
    "\n",
    "V_resp = (V_epochs[dat['response'] == 1]).mean(0)\n",
    "V_base = (V_epochs[dat['response'] == 0]).mean(0)"
   ]
  },
  {
   "cell_type": "code",
   "execution_count": null,
   "id": "ea2821f6",
   "metadata": {},
   "outputs": [],
   "source": [
    "# let's find the electrodes that distinguish responses from non-responses\n",
    "# note these are event-related potentials\n",
    "\n",
    "plt.figure(figsize=(15, 12))\n",
    "for j in range(60):\n",
    "    ax = plt.subplot(6, 10, j+1)\n",
    "    plt.plot(trange, V_resp[:, j], lw=2)\n",
    "    plt.plot(trange, V_base[:, j], lw=2)\n",
    "    plt.title('ch%d'%j)\n",
    "    plt.yticks([])\n",
    "    plt.ylim([0, 3])\n",
    "plt.show()"
   ]
  },
  {
   "cell_type": "code",
   "execution_count": null,
   "id": "bf11abe3",
   "metadata": {},
   "outputs": [],
   "source": [
    "# let's look at all the response trials for the electrode that has a significant response\n",
    "plt.subplot(1, 3, 1)\n",
    "plt.imshow(V_epochs[dat['response']==1, :, 21].astype('float32'),\n",
    "           aspect='auto')\n",
    "plt.colorbar()\n",
    "plt.show()"
   ]
  },
  {
   "cell_type": "code",
   "execution_count": null,
   "id": "729164f4",
   "metadata": {},
   "outputs": [],
   "source": [
    "# this electrode has a more transient response\n",
    "plt.subplot(1, 3, 1)\n",
    "plt.imshow(V_epochs[dat['response']==1, :, 27].astype('float32'),\n",
    "           aspect='auto')\n",
    "plt.colorbar()\n",
    "plt.show()"
   ]
  },
  {
   "cell_type": "code",
   "execution_count": null,
   "id": "48f4fd13",
   "metadata": {},
   "outputs": [],
   "source": [
    "# to do: do these responses covary with the reaction times? are they present on trials where there is no motor response?"
   ]
  }
 ],
 "metadata": {
  "jupytext": {
   "main_language": "python"
  },
  "kernelspec": {
   "display_name": "Python 3",
   "name": "python3"
  }
 },
 "nbformat": 4,
 "nbformat_minor": 5
}
