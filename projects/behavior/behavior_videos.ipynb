{
 "cells": [
  {
   "cell_type": "markdown",
   "id": "4d2b4c10",
   "metadata": {
    "colab_type": "text",
    "id": "view-in-github"
   },
   "source": [
    "<a href=\"https://colab.research.google.com/github/NeuromatchAcademy/course-content/blob/main/projects/behavior/behavior_videos.ipynb\" target=\"_parent\"><img src=\"https://colab.research.google.com/assets/colab-badge.svg\" alt=\"Open In Colab\"/></a> &nbsp; <a href=\"https://kaggle.com/kernels/welcome?src=https://raw.githubusercontent.com/NeuromatchAcademy/course-content/main/projects/behavior/behavior_videos.ipynb\" target=\"_parent\"><img src=\"https://kaggle.com/static/images/open-in-kaggle.svg\" alt=\"Open in Kaggle\"/></a>"
   ]
  },
  {
   "cell_type": "markdown",
   "id": "967c745a",
   "metadata": {
    "pycharm": {
     "name": "#%% md\n"
    }
   },
   "source": [
    "# Overview videos\n",
    "\n"
   ]
  },
  {
   "cell_type": "markdown",
   "id": "c20a0434",
   "metadata": {},
   "source": [
    "##  Video: IBL Behavior\n"
   ]
  },
  {
   "cell_type": "code",
   "execution_count": null,
   "id": "4f795127",
   "metadata": {
    "cellView": "form",
    "pycharm": {
     "name": "#%%\n"
    },
    "tags": [
     "remove-input"
    ]
   },
   "outputs": [],
   "source": [
    "# @markdown\n",
    "from ipywidgets import widgets\n",
    "\n",
    "out2 = widgets.Output()\n",
    "with out2:\n",
    "    from IPython.display import IFrame\n",
    "    class BiliVideo(IFrame):\n",
    "        def __init__(self, id, page=1, width=400, height=300, **kwargs):\n",
    "            self.id=id\n",
    "            src = 'https://player.bilibili.com/player.html?bvid={0}&page={1}'.format(id, page)\n",
    "            super(BiliVideo, self).__init__(src, width, height, **kwargs)\n",
    "\n",
    "    video = BiliVideo(id=\"\", width=730, height=410, fs=1)\n",
    "    print('Video available at https://www.bilibili.com/video/{0}'.format(video.id))\n",
    "    display(video)\n",
    "\n",
    "out1 = widgets.Output()\n",
    "with out1:\n",
    "    from IPython.display import YouTubeVideo\n",
    "    video = YouTubeVideo(id=\"NofrFH8FRZU\", width=730, height=410, fs=1, rel=0)\n",
    "    print('Video available at https://youtube.com/watch?v=' + video.id)\n",
    "    display(video)\n",
    "\n",
    "out = widgets.Tab([out1, out2])\n",
    "out.set_title(0, 'Youtube')\n",
    "out.set_title(1, 'Bilibili')\n",
    "\n",
    "display(out)"
   ]
  },
  {
   "cell_type": "markdown",
   "id": "aa56c51f",
   "metadata": {},
   "source": [
    "##  Video: Caltech Mouse Social Behavior\n"
   ]
  },
  {
   "cell_type": "code",
   "execution_count": null,
   "id": "c367479e",
   "metadata": {
    "cellView": "form",
    "pycharm": {
     "name": "#%%\n"
    },
    "tags": [
     "remove-input"
    ]
   },
   "outputs": [],
   "source": [
    "# @markdown\n",
    "from ipywidgets import widgets\n",
    "\n",
    "out2 = widgets.Output()\n",
    "with out2:\n",
    "    from IPython.display import IFrame\n",
    "    class BiliVideo(IFrame):\n",
    "        def __init__(self, id, page=1, width=400, height=300, **kwargs):\n",
    "            self.id=id\n",
    "            src = 'https://player.bilibili.com/player.html?bvid={0}&page={1}'.format(id, page)\n",
    "            super(BiliVideo, self).__init__(src, width, height, **kwargs)\n",
    "\n",
    "    video = BiliVideo(id=\"BV1bv411J7Y2\", width=730, height=410, fs=1)\n",
    "    print('Video available at https://www.bilibili.com/video/{0}'.format(video.id))\n",
    "    display(video)\n",
    "\n",
    "out1 = widgets.Output()\n",
    "with out1:\n",
    "    from IPython.display import YouTubeVideo\n",
    "    video = YouTubeVideo(id=\"tDmhmasjPeM\", width=730, height=410, fs=1, rel=0)\n",
    "    print('Video available at https://youtube.com/watch?v=' + video.id)\n",
    "    display(video)\n",
    "\n",
    "out = widgets.Tab([out1, out2])\n",
    "out.set_title(0, 'Youtube')\n",
    "out.set_title(1, 'Bilibili')\n",
    "\n",
    "display(out)"
   ]
  }
 ],
 "metadata": {
  "kernelspec": {
   "display_name": "Python 3",
   "language": "python",
   "name": "python3"
  }
 },
 "nbformat": 4,
 "nbformat_minor": 5
}
