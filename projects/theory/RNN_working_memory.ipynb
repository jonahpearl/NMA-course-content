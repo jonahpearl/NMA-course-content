{
 "cells": [
  {
   "cell_type": "markdown",
   "id": "4d8b8c3d",
   "metadata": {
    "colab_type": "text",
    "id": "view-in-github"
   },
   "source": [
    "<a href=\"https://colab.research.google.com/github/NeuromatchAcademy/course-content/blob/main/projects/theory/RNN_working_memory.ipynb\" target=\"_parent\"><img src=\"https://colab.research.google.com/assets/colab-badge.svg\" alt=\"Open In Colab\"/></a> &nbsp; <a href=\"https://kaggle.com/kernels/welcome?src=https://raw.githubusercontent.com/NeuromatchAcademy/course-content/main/projects/theory/RNN_working_memory.ipynb\" target=\"_parent\"><img src=\"https://kaggle.com/static/images/open-in-kaggle.svg\" alt=\"Open in Kaggle\"/></a>"
   ]
  },
  {
   "cell_type": "code",
   "execution_count": null,
   "id": "0d23c41b",
   "metadata": {},
   "outputs": [],
   "source": [
    "import numpy as np\n",
    "import math\n",
    "import matplotlib.pyplot as plt"
   ]
  },
  {
   "cell_type": "code",
   "execution_count": null,
   "id": "28c28e36",
   "metadata": {},
   "outputs": [],
   "source": [
    "# Set some properties of the model. We'll store these in a dict so they're\n",
    "# easier to pass around or save.\n",
    "model = {}\n",
    "\n",
    "# properties of the recurrent pool:\n",
    "model['N'] = 1000  # number of neurons\n",
    "model['g'] = 0.95  # gain of synaptic weights in pool\n",
    "model['sp'] = 0.25  # fraction of weights that are nonzero\n",
    "model['tau'] = 20  # neural membrane time constant in ms\n",
    "model['dt'] = 0.1  # simulation timestep in ms\n",
    "model['nonlin'] = lambda x: np.tanh(x)  # firing rate nonlinearity for pool units\n",
    "\n",
    "# properties of the input layer:\n",
    "# a note: we're going to encode the \"value\" of the input by the identity of the\n",
    "# active input layer units. We'll use one-hot encoding: for each input step\n",
    "# during simulation, one unit will be activated with \"firing rate\" 1, and the\n",
    "# rest will be set to firing rate 0 (adjust gIn to change the scaling of input\n",
    "# to the recurrent pool.)\n",
    "# Note 1: This is just one way of setting up input- are there other approaches\n",
    "# that would improve memory capacity?\n",
    "# Note 2: Burn-in time is especially important if your model has g>1, in which\n",
    "# case neurons will be spontaneously active.\n",
    "model['nIn'] = 20  # size of the input layer\n",
    "model['gIn'] = 10.0  # gain of the input weights\n",
    "model['spIn'] = 0.05  # sparsity of input->pool connectivity\n",
    "model['burnIn'] = 10  # time before input starts\n",
    "model['durIn'] = 1  # time for which an input is active in ms\n",
    "model['ISI'] = 0  # time between inputs in ms\n",
    "model['nonlinIn'] = lambda x: x  # best to keep the input linear"
   ]
  },
  {
   "cell_type": "code",
   "execution_count": null,
   "id": "8e7211e1",
   "metadata": {},
   "outputs": [],
   "source": [
    "# Create the synaptic weight matrix.\n",
    "# Normalizing weights by sqrt(N*sparsity) keeps the eigenvalue spectrum\n",
    "# invariant to the size of the population N.\n",
    "randMat  = np.random.normal(0, 1, size=(model['N'], model['N']))\n",
    "spMat  = np.random.uniform(0, 1, size=(model['N'], model['N'])) <= model['sp']\n",
    "model['J'] = np.multiply(randMat, spMat) * model['g'] / math.sqrt(model['N'] * model['sp'])\n",
    "\n",
    "# Create the input weight matrix.\n",
    "randMatIn = np.random.normal(0, 1, size=(model['N'], model['nIn']))\n",
    "spMatIn = np.random.uniform(0, 1, size=(model['N'], model['nIn'])) <= model['spIn']\n",
    "model['Jin'] = np.multiply(randMatIn, spMatIn) * model['gIn'] / math.sqrt(model['nIn'] * model['spIn'])"
   ]
  },
  {
   "cell_type": "code",
   "execution_count": null,
   "id": "226f680c",
   "metadata": {},
   "outputs": [],
   "source": [
    "# Define a couple helper functions for simulation.\n",
    "\n",
    "def step(firing_rates, input_layer, model):\n",
    "    # The simulation function. We use Euler's method to simulate the evolution of\n",
    "    # model neuron firing rates given the input_layer firing rates.\n",
    "\n",
    "    timestep = math.exp(-model['dt']/model['tau'])\n",
    "    vIn = np.matmul(model['J'], firing_rates) \\\n",
    "          + np.matmul(model['Jin'], model['nonlinIn'](input_layer))\n",
    "    updated_rates = model['nonlin'](vIn + (firing_rates - vIn) * timestep)\n",
    "\n",
    "    return updated_rates\n",
    "\n",
    "\n",
    "def make_input(sequence_length, model):\n",
    "    # Generates a sequence of inputs according to the parameters in model. Returns\n",
    "    # the sequence both as a one-hot encoding and as a sequence of integer values.\n",
    "\n",
    "    input_stream = [0] * int(model['burnIn']/model['dt'])\n",
    "\n",
    "    for i in range(sequence_length):\n",
    "        val = np.random.randint(0, model['nIn']) + 1\n",
    "        for t in range(int(model['ISI']/model['dt'])):\n",
    "            input_stream.append(0.0)\n",
    "        for t in range(int(model['durIn']/model['dt'])):\n",
    "            input_stream.append(val)\n",
    "\n",
    "    input_stream = np.array(input_stream)\n",
    "\n",
    "    onehot = np.zeros((model['nIn'] + 1, input_stream.size))\n",
    "    onehot[input_stream, np.arange(input_stream.size)] = 1.0\n",
    "    onehot = onehot[1:, :]\n",
    "\n",
    "    return onehot, input_stream"
   ]
  },
  {
   "cell_type": "code",
   "execution_count": null,
   "id": "aa65e2a4",
   "metadata": {},
   "outputs": [],
   "source": [
    "# Look at an example input stream.\n",
    "\n",
    "onehot, stream = make_input(50, model)\n",
    "\n",
    "fig, ax = plt.subplots(1, 2, figsize=(12, 5))\n",
    "omit = int(model['burnIn']/model['dt']) # don't plot the burn-in period\n",
    "ax[0].plot(np.arange(len(stream) - omit) * model['dt'], stream[omit:])\n",
    "ax[0].set_xlabel('time (ms)')\n",
    "ax[0].set_ylabel('input value')\n",
    "\n",
    "ax[1].imshow(onehot[:, omit:], aspect='auto')\n",
    "ax[1].set_xlabel('time (ms)')\n",
    "ax[1].set_ylabel('input one-hot encoding')\n",
    "fig.show()"
   ]
  },
  {
   "cell_type": "code",
   "execution_count": null,
   "id": "b75235bf",
   "metadata": {},
   "outputs": [],
   "source": [
    "# Take a look at the eigenvalue spectrum of J.\n",
    "w, v = np.linalg.eig(model['J'])\n",
    "\n",
    "fig, ax = plt.subplots(1, 2, figsize=(12, 5))\n",
    "showCount = 50  # portion of J to actually show (for readability)\n",
    "h = ax[0].imshow(model['J'][:showCount,:showCount])\n",
    "ax[0].set_title('Sample from weight matrix J')\n",
    "ax[0].set_xlabel('presynaptic neuron')\n",
    "ax[0].set_ylabel('postsynaptic neuron')\n",
    "plt.colorbar(h, ax=ax[0])\n",
    "\n",
    "ax[1].plot(np.real(w),np.imag(w),'.')\n",
    "ax[1].plot(np.sin(np.linspace(0,2*math.pi,100)),\n",
    "           np.cos(np.linspace(0,2*math.pi,100)))  # circle with radius 1\n",
    "ax[1].set_title('Eigenvalue spectrum of J')\n",
    "ax[1].set_xlabel('real component')\n",
    "ax[1].set_ylabel('imaginary component')\n",
    "fig.show()"
   ]
  },
  {
   "cell_type": "code",
   "execution_count": null,
   "id": "d7e97b27",
   "metadata": {},
   "outputs": [],
   "source": [
    "# Simulate the model activity.\n",
    "\n",
    "# generate the input to the model\n",
    "onehot, input_stream = make_input(10, model)\n",
    "\n",
    "# initialize the firing rates randomly\n",
    "firing_rates = np.zeros((model['N'], len(input_stream)))\n",
    "firing_rates[:, 0] = np.random.uniform(0, 0.1, size=(model['N']))\n",
    "\n",
    "for t in range(len(input_stream)-1):\n",
    "    firing_rates[:,t+1] = step(firing_rates[:,t], onehot[:,t], model)\n",
    "\n",
    "\n",
    "fig, ax = plt.subplots(2, 1, figsize=(8, 12))\n",
    "simulation_time = np.arange(len(input_stream))*model['dt'] - model['burnIn']\n",
    "ax[0].plot(simulation_time, input_stream)\n",
    "ax[0].set_xlabel('Time (ms)')\n",
    "ax[0].set_ylabel('Input value')\n",
    "\n",
    "extents = [simulation_time[0],simulation_time[-1], 0, model['N']]\n",
    "ax[1].imshow(firing_rates, aspect='auto', extent=extents)\n",
    "ax[1].set_xlabel('Time (ms)')\n",
    "ax[1].set_ylabel('Neurons')\n",
    "fig.show()"
   ]
  },
  {
   "cell_type": "markdown",
   "id": "65a32368",
   "metadata": {},
   "source": [
    "Now: can you decode the model's input history from its firing rates?"
   ]
  }
 ],
 "metadata": {
  "jupytext": {
   "main_language": "python"
  },
  "kernelspec": {
   "display_name": "Python 3",
   "name": "python3"
  }
 },
 "nbformat": 4,
 "nbformat_minor": 5
}
